{
 "cells": [
  {
   "cell_type": "markdown",
   "id": "219d7817",
   "metadata": {},
   "source": [
    "# 1. Bussiness Understanding "
   ]
  },
  {
   "cell_type": "markdown",
   "id": "25257291",
   "metadata": {},
   "source": [
    "# 2. Data Understanding "
   ]
  },
  {
   "cell_type": "markdown",
   "id": "2284b16a",
   "metadata": {},
   "source": [
    "## 2.1 Import Libraries "
   ]
  },
  {
   "cell_type": "code",
   "execution_count": 33,
   "id": "038fb3e9",
   "metadata": {},
   "outputs": [],
   "source": [
    "# ====== Data Handling ======\n",
    "import pandas as pd\n",
    "import numpy as np\n",
    "import ast\n",
    "from collections import Counter\n",
    "\n",
    "# ====== Visualization ======\n",
    "import matplotlib.pyplot as plt\n",
    "import seaborn as sns\n",
    "import plotly.express as px\n",
    "import plotly.graph_objects as go\n",
    "\n",
    "# ====== Preprocessing ======\n",
    "from sklearn.model_selection import train_test_split, cross_val_score, GridSearchCV, RandomizedSearchCV\n",
    "from sklearn.preprocessing import StandardScaler, MinMaxScaler, PolynomialFeatures\n",
    "from sklearn.preprocessing import OneHotEncoder, OrdinalEncoder\n",
    "from sklearn.compose import ColumnTransformer\n",
    "from sklearn.pipeline import Pipeline\n",
    "from sklearn.preprocessing import StandardScaler, OneHotEncoder, FunctionTransformer, PowerTransformer, QuantileTransformer\n",
    "\n",
    "# ====== Regression & Tree Models ======\n",
    "from sklearn.linear_model import LinearRegression, Ridge, Lasso, ElasticNet\n",
    "from sklearn.ensemble import RandomForestRegressor\n",
    "import xgboost as xgb\n",
    "from xgboost import XGBRegressor\n",
    "from sklearn.metrics import mean_squared_error, mean_absolute_error, r2_score\n",
    "from sklearn.preprocessing import PolynomialFeatures\n",
    "from sklearn.linear_model import Ridge\n",
    "from sklearn.model_selection import KFold\n",
    "from scipy.stats import randint, uniform\n",
    "\n",
    "# ====== Clustering ======\n",
    "from sklearn.cluster import KMeans\n",
    "\n",
    "# ====== Correlation & Statistics ======\n",
    "from scipy.stats import pearsonr, spearmanr\n",
    "\n",
    "# ====== NLP ======\n",
    "import nltk\n",
    "from nltk.corpus import stopwords\n",
    "from nltk.stem import WordNetLemmatizer\n",
    "from nltk.tokenize import word_tokenize\n",
    "import re\n",
    "from vaderSentiment.vaderSentiment import SentimentIntensityAnalyzer\n",
    "from bertopic import BERTopic\n",
    "\n",
    "# ====== Geospatial ======\n",
    "import geopandas as gpd\n",
    "import folium\n",
    "from folium.features import GeoJsonTooltip\n",
    "from shapely.geometry import Point\n",
    "from branca.element import Template, MacroElement, Element\n",
    "\n",
    "\n",
    "# ====== Utilities ======\n",
    "import warnings\n",
    "warnings.filterwarnings(\"ignore\")\n",
    "import joblib\n",
    "from joblib import dump\n",
    "import pickle\n",
    "\n",
    "\n",
    "from scipy.stats import randint, uniform"
   ]
  },
  {
   "cell_type": "markdown",
   "id": "69a078ac",
   "metadata": {},
   "source": [
    "## 2.2 Loading the Data "
   ]
  },
  {
   "cell_type": "code",
   "execution_count": 34,
   "id": "8e05dd09",
   "metadata": {},
   "outputs": [],
   "source": [
    "# Load the new datasets\n",
    "future_calendar = pd.read_csv(\"Data/Future Calendar Rates.csv\")\n",
    "listings_v2 = pd.read_csv(\"Data/Listings (2).csv\")\n",
    "past_calendar = pd.read_csv(\"Data/Past Calendar Rates.csv\")\n",
    "reviews_v2 = pd.read_csv(\"Data/Reviews (2).csv\")"
   ]
  },
  {
   "cell_type": "markdown",
   "id": "d56332d4",
   "metadata": {},
   "source": [
    "# 3. Data Understanding "
   ]
  },
  {
   "cell_type": "markdown",
   "id": "3279b8ff",
   "metadata": {},
   "source": [
    "### 3.1 check the first 5 rows of each data"
   ]
  },
  {
   "cell_type": "code",
   "execution_count": 35,
   "id": "3dd890c8",
   "metadata": {},
   "outputs": [
    {
     "data": {
      "application/vnd.microsoft.datawrangler.viewer.v0+json": {
       "columns": [
        {
         "name": "index",
         "rawType": "int64",
         "type": "integer"
        },
        {
         "name": "listing_id",
         "rawType": "int64",
         "type": "integer"
        },
        {
         "name": "date",
         "rawType": "object",
         "type": "string"
        },
        {
         "name": "vacant_days",
         "rawType": "int64",
         "type": "integer"
        },
        {
         "name": "reserved_days",
         "rawType": "int64",
         "type": "integer"
        },
        {
         "name": "occupancy",
         "rawType": "float64",
         "type": "float"
        },
        {
         "name": "revenue",
         "rawType": "float64",
         "type": "float"
        },
        {
         "name": "rate_avg",
         "rawType": "float64",
         "type": "float"
        },
        {
         "name": "booked_rate_avg",
         "rawType": "float64",
         "type": "float"
        },
        {
         "name": "booking_lead_time_avg",
         "rawType": "float64",
         "type": "float"
        },
        {
         "name": "length_of_stay_avg",
         "rawType": "float64",
         "type": "float"
        },
        {
         "name": "min_nights_avg",
         "rawType": "float64",
         "type": "float"
        },
        {
         "name": "native_booked_rate_avg",
         "rawType": "float64",
         "type": "float"
        },
        {
         "name": "native_rate_avg",
         "rawType": "float64",
         "type": "float"
        },
        {
         "name": "native_revenue",
         "rawType": "float64",
         "type": "float"
        }
       ],
       "ref": "5ba0ae00-3a49-4772-9a04-f852659cad6d",
       "rows": [
        [
         "0",
         "41759384",
         "2025-11-01",
         "30",
         "0",
         "0.0",
         "0.0",
         "54.0",
         null,
         null,
         null,
         "2.0",
         null,
         "6977.0",
         "0.0"
        ],
        [
         "1",
         "14535080",
         "2026-01-01",
         "31",
         "0",
         "0.0",
         "0.0",
         "9.7",
         null,
         null,
         null,
         "28.0",
         null,
         "1253.0",
         "0.0"
        ],
        [
         "2",
         "41759384",
         "2026-07-01",
         "31",
         "0",
         "0.0",
         "0.0",
         "53.5",
         null,
         null,
         null,
         null,
         null,
         "6912.0",
         "0.0"
        ],
        [
         "3",
         "14535080",
         "2025-12-01",
         "31",
         "0",
         "0.0",
         "0.0",
         "9.7",
         null,
         null,
         null,
         "28.0",
         null,
         "1253.0",
         "0.0"
        ],
        [
         "4",
         "14535080",
         "2026-08-01",
         "31",
         "0",
         "0.0",
         "0.0",
         "10.3",
         null,
         null,
         null,
         "28.0",
         null,
         "1331.0",
         "0.0"
        ]
       ],
       "shape": {
        "columns": 14,
        "rows": 5
       }
      },
      "text/html": [
       "<div>\n",
       "<style scoped>\n",
       "    .dataframe tbody tr th:only-of-type {\n",
       "        vertical-align: middle;\n",
       "    }\n",
       "\n",
       "    .dataframe tbody tr th {\n",
       "        vertical-align: top;\n",
       "    }\n",
       "\n",
       "    .dataframe thead th {\n",
       "        text-align: right;\n",
       "    }\n",
       "</style>\n",
       "<table border=\"1\" class=\"dataframe\">\n",
       "  <thead>\n",
       "    <tr style=\"text-align: right;\">\n",
       "      <th></th>\n",
       "      <th>listing_id</th>\n",
       "      <th>date</th>\n",
       "      <th>vacant_days</th>\n",
       "      <th>reserved_days</th>\n",
       "      <th>occupancy</th>\n",
       "      <th>revenue</th>\n",
       "      <th>rate_avg</th>\n",
       "      <th>booked_rate_avg</th>\n",
       "      <th>booking_lead_time_avg</th>\n",
       "      <th>length_of_stay_avg</th>\n",
       "      <th>min_nights_avg</th>\n",
       "      <th>native_booked_rate_avg</th>\n",
       "      <th>native_rate_avg</th>\n",
       "      <th>native_revenue</th>\n",
       "    </tr>\n",
       "  </thead>\n",
       "  <tbody>\n",
       "    <tr>\n",
       "      <th>0</th>\n",
       "      <td>41759384</td>\n",
       "      <td>2025-11-01</td>\n",
       "      <td>30</td>\n",
       "      <td>0</td>\n",
       "      <td>0.0</td>\n",
       "      <td>0.0</td>\n",
       "      <td>54.0</td>\n",
       "      <td>NaN</td>\n",
       "      <td>NaN</td>\n",
       "      <td>NaN</td>\n",
       "      <td>2.0</td>\n",
       "      <td>NaN</td>\n",
       "      <td>6977.0</td>\n",
       "      <td>0.0</td>\n",
       "    </tr>\n",
       "    <tr>\n",
       "      <th>1</th>\n",
       "      <td>14535080</td>\n",
       "      <td>2026-01-01</td>\n",
       "      <td>31</td>\n",
       "      <td>0</td>\n",
       "      <td>0.0</td>\n",
       "      <td>0.0</td>\n",
       "      <td>9.7</td>\n",
       "      <td>NaN</td>\n",
       "      <td>NaN</td>\n",
       "      <td>NaN</td>\n",
       "      <td>28.0</td>\n",
       "      <td>NaN</td>\n",
       "      <td>1253.0</td>\n",
       "      <td>0.0</td>\n",
       "    </tr>\n",
       "    <tr>\n",
       "      <th>2</th>\n",
       "      <td>41759384</td>\n",
       "      <td>2026-07-01</td>\n",
       "      <td>31</td>\n",
       "      <td>0</td>\n",
       "      <td>0.0</td>\n",
       "      <td>0.0</td>\n",
       "      <td>53.5</td>\n",
       "      <td>NaN</td>\n",
       "      <td>NaN</td>\n",
       "      <td>NaN</td>\n",
       "      <td>NaN</td>\n",
       "      <td>NaN</td>\n",
       "      <td>6912.0</td>\n",
       "      <td>0.0</td>\n",
       "    </tr>\n",
       "    <tr>\n",
       "      <th>3</th>\n",
       "      <td>14535080</td>\n",
       "      <td>2025-12-01</td>\n",
       "      <td>31</td>\n",
       "      <td>0</td>\n",
       "      <td>0.0</td>\n",
       "      <td>0.0</td>\n",
       "      <td>9.7</td>\n",
       "      <td>NaN</td>\n",
       "      <td>NaN</td>\n",
       "      <td>NaN</td>\n",
       "      <td>28.0</td>\n",
       "      <td>NaN</td>\n",
       "      <td>1253.0</td>\n",
       "      <td>0.0</td>\n",
       "    </tr>\n",
       "    <tr>\n",
       "      <th>4</th>\n",
       "      <td>14535080</td>\n",
       "      <td>2026-08-01</td>\n",
       "      <td>31</td>\n",
       "      <td>0</td>\n",
       "      <td>0.0</td>\n",
       "      <td>0.0</td>\n",
       "      <td>10.3</td>\n",
       "      <td>NaN</td>\n",
       "      <td>NaN</td>\n",
       "      <td>NaN</td>\n",
       "      <td>28.0</td>\n",
       "      <td>NaN</td>\n",
       "      <td>1331.0</td>\n",
       "      <td>0.0</td>\n",
       "    </tr>\n",
       "  </tbody>\n",
       "</table>\n",
       "</div>"
      ],
      "text/plain": [
       "   listing_id        date  vacant_days  reserved_days  occupancy  revenue  \\\n",
       "0    41759384  2025-11-01           30              0        0.0      0.0   \n",
       "1    14535080  2026-01-01           31              0        0.0      0.0   \n",
       "2    41759384  2026-07-01           31              0        0.0      0.0   \n",
       "3    14535080  2025-12-01           31              0        0.0      0.0   \n",
       "4    14535080  2026-08-01           31              0        0.0      0.0   \n",
       "\n",
       "   rate_avg  booked_rate_avg  booking_lead_time_avg  length_of_stay_avg  \\\n",
       "0      54.0              NaN                    NaN                 NaN   \n",
       "1       9.7              NaN                    NaN                 NaN   \n",
       "2      53.5              NaN                    NaN                 NaN   \n",
       "3       9.7              NaN                    NaN                 NaN   \n",
       "4      10.3              NaN                    NaN                 NaN   \n",
       "\n",
       "   min_nights_avg  native_booked_rate_avg  native_rate_avg  native_revenue  \n",
       "0             2.0                     NaN           6977.0             0.0  \n",
       "1            28.0                     NaN           1253.0             0.0  \n",
       "2             NaN                     NaN           6912.0             0.0  \n",
       "3            28.0                     NaN           1253.0             0.0  \n",
       "4            28.0                     NaN           1331.0             0.0  "
      ]
     },
     "execution_count": 35,
     "metadata": {},
     "output_type": "execute_result"
    }
   ],
   "source": [
    "# Display the first 5 rows of the future_calendar dataset\n",
    "future_calendar.head()"
   ]
  },
  {
   "cell_type": "code",
   "execution_count": 36,
   "id": "62370c67",
   "metadata": {},
   "outputs": [
    {
     "data": {
      "application/vnd.microsoft.datawrangler.viewer.v0+json": {
       "columns": [
        {
         "name": "index",
         "rawType": "int64",
         "type": "integer"
        },
        {
         "name": "listing_id",
         "rawType": "int64",
         "type": "integer"
        },
        {
         "name": "listing_name",
         "rawType": "object",
         "type": "string"
        },
        {
         "name": "listing_type",
         "rawType": "object",
         "type": "string"
        },
        {
         "name": "room_type",
         "rawType": "object",
         "type": "string"
        },
        {
         "name": "cover_photo_url",
         "rawType": "object",
         "type": "string"
        },
        {
         "name": "photos_count",
         "rawType": "int64",
         "type": "integer"
        },
        {
         "name": "host_id",
         "rawType": "int64",
         "type": "integer"
        },
        {
         "name": "host_name",
         "rawType": "object",
         "type": "unknown"
        },
        {
         "name": "cohost_ids",
         "rawType": "object",
         "type": "unknown"
        },
        {
         "name": "cohost_names",
         "rawType": "object",
         "type": "unknown"
        },
        {
         "name": "superhost",
         "rawType": "bool",
         "type": "boolean"
        },
        {
         "name": "latitude",
         "rawType": "float64",
         "type": "float"
        },
        {
         "name": "longitude",
         "rawType": "float64",
         "type": "float"
        },
        {
         "name": "guests",
         "rawType": "float64",
         "type": "float"
        },
        {
         "name": "bedrooms",
         "rawType": "float64",
         "type": "float"
        },
        {
         "name": "beds",
         "rawType": "float64",
         "type": "float"
        },
        {
         "name": "baths",
         "rawType": "float64",
         "type": "float"
        },
        {
         "name": "registration",
         "rawType": "object",
         "type": "unknown"
        },
        {
         "name": "amenities",
         "rawType": "object",
         "type": "string"
        },
        {
         "name": "instant_book",
         "rawType": "object",
         "type": "unknown"
        },
        {
         "name": "min_nights",
         "rawType": "float64",
         "type": "float"
        },
        {
         "name": "cancellation_policy",
         "rawType": "object",
         "type": "string"
        },
        {
         "name": "currency",
         "rawType": "object",
         "type": "string"
        },
        {
         "name": "cleaning_fee",
         "rawType": "float64",
         "type": "float"
        },
        {
         "name": "extra_guest_fee",
         "rawType": "float64",
         "type": "float"
        },
        {
         "name": "num_reviews",
         "rawType": "int64",
         "type": "integer"
        },
        {
         "name": "rating_overall",
         "rawType": "float64",
         "type": "float"
        },
        {
         "name": "rating_accuracy",
         "rawType": "float64",
         "type": "float"
        },
        {
         "name": "rating_checkin",
         "rawType": "float64",
         "type": "float"
        },
        {
         "name": "rating_cleanliness",
         "rawType": "float64",
         "type": "float"
        },
        {
         "name": "rating_communication",
         "rawType": "float64",
         "type": "float"
        },
        {
         "name": "rating_location",
         "rawType": "float64",
         "type": "float"
        },
        {
         "name": "rating_value",
         "rawType": "float64",
         "type": "float"
        },
        {
         "name": "ttm_revenue",
         "rawType": "float64",
         "type": "float"
        },
        {
         "name": "ttm_revenue_native",
         "rawType": "float64",
         "type": "float"
        },
        {
         "name": "ttm_avg_rate",
         "rawType": "float64",
         "type": "float"
        },
        {
         "name": "ttm_avg_rate_native",
         "rawType": "float64",
         "type": "float"
        },
        {
         "name": "ttm_occupancy",
         "rawType": "float64",
         "type": "float"
        },
        {
         "name": "ttm_adjusted_occupancy",
         "rawType": "float64",
         "type": "float"
        },
        {
         "name": "ttm_revpar",
         "rawType": "float64",
         "type": "float"
        },
        {
         "name": "ttm_revpar_native",
         "rawType": "float64",
         "type": "float"
        },
        {
         "name": "ttm_adjusted_revpar",
         "rawType": "float64",
         "type": "float"
        },
        {
         "name": "ttm_adjusted_revpar_native",
         "rawType": "float64",
         "type": "float"
        },
        {
         "name": "ttm_reserved_days",
         "rawType": "int64",
         "type": "integer"
        },
        {
         "name": "ttm_blocked_days",
         "rawType": "int64",
         "type": "integer"
        },
        {
         "name": "ttm_available_days",
         "rawType": "int64",
         "type": "integer"
        },
        {
         "name": "ttm_total_days",
         "rawType": "int64",
         "type": "integer"
        },
        {
         "name": "l90d_revenue",
         "rawType": "float64",
         "type": "float"
        },
        {
         "name": "l90d_revenue_native",
         "rawType": "float64",
         "type": "float"
        },
        {
         "name": "l90d_avg_rate",
         "rawType": "float64",
         "type": "float"
        },
        {
         "name": "l90d_avg_rate_native",
         "rawType": "float64",
         "type": "float"
        },
        {
         "name": "l90d_occupancy",
         "rawType": "float64",
         "type": "float"
        },
        {
         "name": "l90d_adjusted_occupancy",
         "rawType": "float64",
         "type": "float"
        },
        {
         "name": "l90d_revpar",
         "rawType": "float64",
         "type": "float"
        },
        {
         "name": "l90d_revpar_native",
         "rawType": "float64",
         "type": "float"
        },
        {
         "name": "l90d_adjusted_revpar",
         "rawType": "float64",
         "type": "float"
        },
        {
         "name": "l90d_adjusted_revpar_native",
         "rawType": "float64",
         "type": "float"
        },
        {
         "name": "l90d_reserved_days",
         "rawType": "int64",
         "type": "integer"
        },
        {
         "name": "l90d_blocked_days",
         "rawType": "int64",
         "type": "integer"
        },
        {
         "name": "l90d_available_days",
         "rawType": "int64",
         "type": "integer"
        },
        {
         "name": "l90d_total_days",
         "rawType": "int64",
         "type": "integer"
        }
       ],
       "ref": "5b7a599f-032c-4c0a-9dbc-d8031ae2abd9",
       "rows": [
        [
         "0",
         "471581",
         "Located In a Serene Environment",
         "Entire cottage",
         "entire_home",
         "https://a0.muscache.com/im/pictures/6434524/bcd9fbe4_original.jpg",
         "37",
         "2280941",
         "Bella",
         null,
         null,
         "True",
         "-1.2268",
         "36.8577",
         "3.0",
         "2.0",
         "2.0",
         "1.0",
         "False",
         "TV,Wifi,Kitchen,Free parking on premises,Hot water,Body soap,Resort access,Mosquito net,Bed linens,Extra pillows and blankets,Outdoor furniture,Microwave,Refrigerator,Dishes and silverware,Cooking basics,Oven,Stove,Washer,Backyard,Essentials,Shampoo,Hangers,Iron,Dedicated workspace",
         "False",
         "2.0",
         "Moderate",
         "KES",
         "28.0",
         "0.0",
         "80",
         "4.81",
         "4.8",
         "4.8",
         "4.7",
         "4.9",
         "4.8",
         "4.8",
         "4416.0",
         "570748.0",
         "41.7",
         "5388.2",
         "0.296",
         "0.4",
         "12.1",
         "1563.7",
         "16.4",
         "2113.9",
         "108",
         "95",
         "257",
         "365",
         "1807.0",
         "233475.0",
         "40.3",
         "5202.7",
         "0.5",
         "0.726",
         "20.1",
         "2594.2",
         "29.1",
         "3765.7",
         "45",
         "28",
         "45",
         "90"
        ],
        [
         "1",
         "906958",
         "Makena's Place Karen - Flamingo Room",
         "Private room in cottage",
         "private_room",
         "https://a0.muscache.com/im/pictures/68ecc57f-d57b-4d12-bfa6-bbd1fb4107e3.jpg",
         "29",
         "4856316",
         "Chichi",
         null,
         null,
         "True",
         "-1.324",
         "36.7053",
         null,
         null,
         "1.0",
         "0.0",
         "False",
         "Wifi,Kitchen,Free parking on premises,Smoking allowed,Hot water,Breakfast,Outdoor furniture,Microwave,Indoor fireplace,Refrigerator,Dishes and silverware,Cooking basics,Oven,Stove,Washer,Dryer,BBQ grill,Patio or balcony,Backyard,Fire extinguisher,Luggage dropoff allowed,Essentials,Long term stays allowed,Lock on bedroom door,Hangers,Hair dryer,Iron,Dedicated workspace,Outdoor dining area,Private entrance",
         "True",
         "1.0",
         "Firm",
         "KES",
         "0.0",
         "20.0",
         "66",
         "4.91",
         "4.9",
         "4.9",
         "5.0",
         "4.9",
         "4.9",
         "4.9",
         "3803.0",
         "491304.0",
         "48.1",
         "6215.8",
         "0.222",
         "0.236",
         "10.4",
         "1346.0",
         "11.1",
         "1432.4",
         "81",
         "22",
         "284",
         "365",
         "525.0",
         "67833.0",
         "53.3",
         "6888.1",
         "0.111",
         "0.147",
         "5.8",
         "753.7",
         "7.7",
         "997.5",
         "10",
         "22",
         "80",
         "90"
        ],
        [
         "2",
         "1023556",
         "Home in Langata 1 km to Nairobi National Park",
         "Entire guesthouse",
         "entire_home",
         "https://a0.muscache.com/im/pictures/01cc7287-2039-445b-a261-c0d16290f19b.jpg",
         "20",
         "5634522",
         "Janet",
         null,
         null,
         "False",
         "-1.3222",
         "36.7852",
         "2.0",
         "1.0",
         "1.0",
         "1.0",
         "False",
         "TV,Blender,Wifi,Babysitter recommendations,Kitchen,Free parking on premises,Room-darkening shades,Hot water kettle,Children’s dinnerware,Portable fans,Smoking allowed,Pets allowed,Hot water,Body soap,Mini fridge,Mosquito net,Bed linens,Extra pillows and blankets,Microwave,Cleaning products,Drying rack for clothing,Dishes and silverware,Cooking basics,Coffee,Clothing storage,Stove,Wine glasses,Washer,Single level home,Backyard,Luggage dropoff allowed,Essentials,Long term stays allowed,Cleaning before checkout,Hangers,Hair dryer,Iron,Dedicated workspace,Freezer,Rice maker",
         "False",
         "1.0",
         "Moderate",
         "KES",
         "5.0",
         "0.0",
         "154",
         "4.84",
         "4.9",
         "4.9",
         "4.9",
         "4.9",
         "4.7",
         "4.8",
         "218.0",
         "28230.0",
         "28.2",
         "3647.1",
         "0.03",
         "0.0",
         "0.6",
         "77.3",
         "0.0",
         "0.0",
         "11",
         "0",
         "354",
         "365",
         "78.0",
         "10078.0",
         "19.2",
         "2482.1",
         "0.044",
         "0.0",
         "0.9",
         "112.0",
         "0.0",
         "0.0",
         "4",
         "0",
         "86",
         "90"
        ],
        [
         "3",
         "1237886",
         "Hob House",
         "Room in bed and breakfast",
         "hotel_room",
         "https://a0.muscache.com/im/pictures/cbdab7e1-f840-44ed-a028-6085d21ea284.jpg?aki_policy=medium",
         "8",
         "6748840",
         null,
         null,
         null,
         "False",
         "-1.2258",
         "36.7679",
         "2.0",
         "7.0",
         "9.0",
         "1.0",
         null,
         "Air conditioning,Kitchen,Dryer,Heating,Wifi,Free parking on premises,Hair dryer,Cable TV,Iron,Washer,TV,Breakfast,Hangers,Essentials,Indoor fireplace,Smoke alarm,Carbon monoxide alarm,First aid kit,Fire extinguisher,Shampoo,Bathtub,Baby bath,High chair,Children’s books and toys,Window guards,Fireplace guards,Babysitter recommendations,Room-darkening shades,Hot water,Bed linens,Extra pillows and blankets,Microwave,Coffee maker,Refrigerator,Dishes and silverware,Cooking basics,Oven,Stove,BBQ grill,Backyard,Luggage dropoff allowed,Long term stays allowed",
         null,
         "1.0",
         "Flexible",
         "KES",
         "0.0",
         "20.0",
         "57",
         "4.79",
         "4.8",
         "4.8",
         "4.9",
         "4.6",
         "4.7",
         "4.8",
         "1733.0",
         "223430.0",
         "114.4",
         "14775.9",
         "0.041",
         "0.0",
         "4.7",
         "612.1",
         "0.0",
         "0.0",
         "15",
         "0",
         "350",
         "365",
         "620.0",
         "80106.0",
         "121.0",
         "15639.3",
         "0.056",
         "0.0",
         "6.9",
         "890.1",
         "0.0",
         "0.0",
         "5",
         "0",
         "85",
         "90"
        ],
        [
         "4",
         "1803821",
         "Makena's Place Karen - All Rooms",
         "Private room in cottage",
         "private_room",
         "https://a0.muscache.com/im/pictures/786899c5-b8a6-4453-bb73-a9f0e90add80.jpg",
         "58",
         "4856316",
         "Chichi",
         null,
         null,
         "True",
         "-1.3237",
         "36.7059",
         null,
         "3.0",
         "3.0",
         "0.0",
         "False",
         "Wifi,Kitchen,Free parking on premises,Smoking allowed,Hot water,Breakfast,Outdoor furniture,Microwave,Coffee maker,Indoor fireplace,Refrigerator,Dishes and silverware,Cooking basics,Oven,Stove,Washer,Dryer,BBQ grill,Patio or balcony,Backyard,Fire extinguisher,Luggage dropoff allowed,Essentials,Long term stays allowed,Lock on bedroom door,Hangers,Hair dryer,Iron,Dedicated workspace,Private entrance",
         "True",
         "1.0",
         "Firm",
         "KES",
         "10.0",
         "0.0",
         "11",
         "4.91",
         "5.0",
         "5.0",
         "5.0",
         "4.5",
         "4.9",
         "4.9",
         "4975.0",
         "642180.0",
         "126.6",
         "16361.8",
         "0.107",
         "0.125",
         "13.6",
         "1759.4",
         "15.9",
         "2058.3",
         "39",
         "53",
         "326",
         "365",
         "507.0",
         "65507.0",
         "125.4",
         "16196.3",
         "0.044",
         "0.055",
         "5.6",
         "727.9",
         "6.9",
         "897.4",
         "4",
         "17",
         "86",
         "90"
        ]
       ],
       "shape": {
        "columns": 61,
        "rows": 5
       }
      },
      "text/html": [
       "<div>\n",
       "<style scoped>\n",
       "    .dataframe tbody tr th:only-of-type {\n",
       "        vertical-align: middle;\n",
       "    }\n",
       "\n",
       "    .dataframe tbody tr th {\n",
       "        vertical-align: top;\n",
       "    }\n",
       "\n",
       "    .dataframe thead th {\n",
       "        text-align: right;\n",
       "    }\n",
       "</style>\n",
       "<table border=\"1\" class=\"dataframe\">\n",
       "  <thead>\n",
       "    <tr style=\"text-align: right;\">\n",
       "      <th></th>\n",
       "      <th>listing_id</th>\n",
       "      <th>listing_name</th>\n",
       "      <th>listing_type</th>\n",
       "      <th>room_type</th>\n",
       "      <th>cover_photo_url</th>\n",
       "      <th>photos_count</th>\n",
       "      <th>host_id</th>\n",
       "      <th>host_name</th>\n",
       "      <th>cohost_ids</th>\n",
       "      <th>cohost_names</th>\n",
       "      <th>...</th>\n",
       "      <th>l90d_occupancy</th>\n",
       "      <th>l90d_adjusted_occupancy</th>\n",
       "      <th>l90d_revpar</th>\n",
       "      <th>l90d_revpar_native</th>\n",
       "      <th>l90d_adjusted_revpar</th>\n",
       "      <th>l90d_adjusted_revpar_native</th>\n",
       "      <th>l90d_reserved_days</th>\n",
       "      <th>l90d_blocked_days</th>\n",
       "      <th>l90d_available_days</th>\n",
       "      <th>l90d_total_days</th>\n",
       "    </tr>\n",
       "  </thead>\n",
       "  <tbody>\n",
       "    <tr>\n",
       "      <th>0</th>\n",
       "      <td>471581</td>\n",
       "      <td>Located In a Serene Environment</td>\n",
       "      <td>Entire cottage</td>\n",
       "      <td>entire_home</td>\n",
       "      <td>https://a0.muscache.com/im/pictures/6434524/bc...</td>\n",
       "      <td>37</td>\n",
       "      <td>2280941</td>\n",
       "      <td>Bella</td>\n",
       "      <td>NaN</td>\n",
       "      <td>NaN</td>\n",
       "      <td>...</td>\n",
       "      <td>0.500</td>\n",
       "      <td>0.726</td>\n",
       "      <td>20.1</td>\n",
       "      <td>2594.2</td>\n",
       "      <td>29.1</td>\n",
       "      <td>3765.7</td>\n",
       "      <td>45</td>\n",
       "      <td>28</td>\n",
       "      <td>45</td>\n",
       "      <td>90</td>\n",
       "    </tr>\n",
       "    <tr>\n",
       "      <th>1</th>\n",
       "      <td>906958</td>\n",
       "      <td>Makena's Place Karen - Flamingo Room</td>\n",
       "      <td>Private room in cottage</td>\n",
       "      <td>private_room</td>\n",
       "      <td>https://a0.muscache.com/im/pictures/68ecc57f-d...</td>\n",
       "      <td>29</td>\n",
       "      <td>4856316</td>\n",
       "      <td>Chichi</td>\n",
       "      <td>NaN</td>\n",
       "      <td>NaN</td>\n",
       "      <td>...</td>\n",
       "      <td>0.111</td>\n",
       "      <td>0.147</td>\n",
       "      <td>5.8</td>\n",
       "      <td>753.7</td>\n",
       "      <td>7.7</td>\n",
       "      <td>997.5</td>\n",
       "      <td>10</td>\n",
       "      <td>22</td>\n",
       "      <td>80</td>\n",
       "      <td>90</td>\n",
       "    </tr>\n",
       "    <tr>\n",
       "      <th>2</th>\n",
       "      <td>1023556</td>\n",
       "      <td>Home in Langata 1 km to Nairobi National Park</td>\n",
       "      <td>Entire guesthouse</td>\n",
       "      <td>entire_home</td>\n",
       "      <td>https://a0.muscache.com/im/pictures/01cc7287-2...</td>\n",
       "      <td>20</td>\n",
       "      <td>5634522</td>\n",
       "      <td>Janet</td>\n",
       "      <td>NaN</td>\n",
       "      <td>NaN</td>\n",
       "      <td>...</td>\n",
       "      <td>0.044</td>\n",
       "      <td>0.000</td>\n",
       "      <td>0.9</td>\n",
       "      <td>112.0</td>\n",
       "      <td>0.0</td>\n",
       "      <td>0.0</td>\n",
       "      <td>4</td>\n",
       "      <td>0</td>\n",
       "      <td>86</td>\n",
       "      <td>90</td>\n",
       "    </tr>\n",
       "    <tr>\n",
       "      <th>3</th>\n",
       "      <td>1237886</td>\n",
       "      <td>Hob House</td>\n",
       "      <td>Room in bed and breakfast</td>\n",
       "      <td>hotel_room</td>\n",
       "      <td>https://a0.muscache.com/im/pictures/cbdab7e1-f...</td>\n",
       "      <td>8</td>\n",
       "      <td>6748840</td>\n",
       "      <td>NaN</td>\n",
       "      <td>NaN</td>\n",
       "      <td>NaN</td>\n",
       "      <td>...</td>\n",
       "      <td>0.056</td>\n",
       "      <td>0.000</td>\n",
       "      <td>6.9</td>\n",
       "      <td>890.1</td>\n",
       "      <td>0.0</td>\n",
       "      <td>0.0</td>\n",
       "      <td>5</td>\n",
       "      <td>0</td>\n",
       "      <td>85</td>\n",
       "      <td>90</td>\n",
       "    </tr>\n",
       "    <tr>\n",
       "      <th>4</th>\n",
       "      <td>1803821</td>\n",
       "      <td>Makena's Place Karen - All Rooms</td>\n",
       "      <td>Private room in cottage</td>\n",
       "      <td>private_room</td>\n",
       "      <td>https://a0.muscache.com/im/pictures/786899c5-b...</td>\n",
       "      <td>58</td>\n",
       "      <td>4856316</td>\n",
       "      <td>Chichi</td>\n",
       "      <td>NaN</td>\n",
       "      <td>NaN</td>\n",
       "      <td>...</td>\n",
       "      <td>0.044</td>\n",
       "      <td>0.055</td>\n",
       "      <td>5.6</td>\n",
       "      <td>727.9</td>\n",
       "      <td>6.9</td>\n",
       "      <td>897.4</td>\n",
       "      <td>4</td>\n",
       "      <td>17</td>\n",
       "      <td>86</td>\n",
       "      <td>90</td>\n",
       "    </tr>\n",
       "  </tbody>\n",
       "</table>\n",
       "<p>5 rows × 61 columns</p>\n",
       "</div>"
      ],
      "text/plain": [
       "   listing_id                                   listing_name  \\\n",
       "0      471581                Located In a Serene Environment   \n",
       "1      906958           Makena's Place Karen - Flamingo Room   \n",
       "2     1023556  Home in Langata 1 km to Nairobi National Park   \n",
       "3     1237886                                      Hob House   \n",
       "4     1803821               Makena's Place Karen - All Rooms   \n",
       "\n",
       "                listing_type     room_type  \\\n",
       "0             Entire cottage   entire_home   \n",
       "1    Private room in cottage  private_room   \n",
       "2          Entire guesthouse   entire_home   \n",
       "3  Room in bed and breakfast    hotel_room   \n",
       "4    Private room in cottage  private_room   \n",
       "\n",
       "                                     cover_photo_url  photos_count  host_id  \\\n",
       "0  https://a0.muscache.com/im/pictures/6434524/bc...            37  2280941   \n",
       "1  https://a0.muscache.com/im/pictures/68ecc57f-d...            29  4856316   \n",
       "2  https://a0.muscache.com/im/pictures/01cc7287-2...            20  5634522   \n",
       "3  https://a0.muscache.com/im/pictures/cbdab7e1-f...             8  6748840   \n",
       "4  https://a0.muscache.com/im/pictures/786899c5-b...            58  4856316   \n",
       "\n",
       "  host_name cohost_ids cohost_names  ...  l90d_occupancy  \\\n",
       "0     Bella        NaN          NaN  ...           0.500   \n",
       "1    Chichi        NaN          NaN  ...           0.111   \n",
       "2     Janet        NaN          NaN  ...           0.044   \n",
       "3       NaN        NaN          NaN  ...           0.056   \n",
       "4    Chichi        NaN          NaN  ...           0.044   \n",
       "\n",
       "   l90d_adjusted_occupancy  l90d_revpar  l90d_revpar_native  \\\n",
       "0                    0.726         20.1              2594.2   \n",
       "1                    0.147          5.8               753.7   \n",
       "2                    0.000          0.9               112.0   \n",
       "3                    0.000          6.9               890.1   \n",
       "4                    0.055          5.6               727.9   \n",
       "\n",
       "   l90d_adjusted_revpar  l90d_adjusted_revpar_native  l90d_reserved_days  \\\n",
       "0                  29.1                       3765.7                  45   \n",
       "1                   7.7                        997.5                  10   \n",
       "2                   0.0                          0.0                   4   \n",
       "3                   0.0                          0.0                   5   \n",
       "4                   6.9                        897.4                   4   \n",
       "\n",
       "  l90d_blocked_days l90d_available_days l90d_total_days  \n",
       "0                28                  45              90  \n",
       "1                22                  80              90  \n",
       "2                 0                  86              90  \n",
       "3                 0                  85              90  \n",
       "4                17                  86              90  \n",
       "\n",
       "[5 rows x 61 columns]"
      ]
     },
     "execution_count": 36,
     "metadata": {},
     "output_type": "execute_result"
    }
   ],
   "source": [
    "# Display the first 5 rows of the listings_v2 dataset\n",
    "listings_v2.head()"
   ]
  },
  {
   "cell_type": "code",
   "execution_count": 37,
   "id": "820a3cc1",
   "metadata": {},
   "outputs": [
    {
     "data": {
      "application/vnd.microsoft.datawrangler.viewer.v0+json": {
       "columns": [
        {
         "name": "index",
         "rawType": "int64",
         "type": "integer"
        },
        {
         "name": "listing_id",
         "rawType": "int64",
         "type": "integer"
        },
        {
         "name": "date",
         "rawType": "object",
         "type": "string"
        },
        {
         "name": "vacant_days",
         "rawType": "int64",
         "type": "integer"
        },
        {
         "name": "reserved_days",
         "rawType": "int64",
         "type": "integer"
        },
        {
         "name": "occupancy",
         "rawType": "float64",
         "type": "float"
        },
        {
         "name": "revenue",
         "rawType": "float64",
         "type": "float"
        },
        {
         "name": "rate_avg",
         "rawType": "float64",
         "type": "float"
        },
        {
         "name": "booked_rate_avg",
         "rawType": "float64",
         "type": "float"
        },
        {
         "name": "booking_lead_time_avg",
         "rawType": "float64",
         "type": "float"
        },
        {
         "name": "length_of_stay_avg",
         "rawType": "float64",
         "type": "float"
        },
        {
         "name": "min_nights_avg",
         "rawType": "float64",
         "type": "float"
        },
        {
         "name": "native_booked_rate_avg",
         "rawType": "float64",
         "type": "float"
        },
        {
         "name": "native_rate_avg",
         "rawType": "float64",
         "type": "float"
        },
        {
         "name": "native_revenue",
         "rawType": "float64",
         "type": "float"
        }
       ],
       "ref": "953b0d16-76bb-4a1a-9510-9ce57286ed97",
       "rows": [
        [
         "0",
         "21520917",
         "2024-12-01",
         "22",
         "9",
         "0.29",
         "345.0",
         "37.6",
         "38.3",
         "5.0",
         "9.0",
         null,
         "4960.0",
         "4869.0",
         "44680.0"
        ],
        [
         "1",
         "39875956",
         "2025-08-01",
         "31",
         "0",
         "0.0",
         "0.0",
         "69.1",
         null,
         null,
         null,
         "1.0",
         null,
         "8928.0",
         "0.0"
        ],
        [
         "2",
         "36253079",
         "2025-04-01",
         "30",
         "0",
         "0.0",
         "0.0",
         "33.7",
         null,
         null,
         null,
         "1.0",
         null,
         "4364.0",
         "0.0"
        ],
        [
         "3",
         "40675899",
         "2024-09-01",
         "24",
         "6",
         "0.2",
         "243.0",
         "40.2",
         "40.5",
         "1.0",
         "9.0",
         null,
         "5232.0",
         "5193.0",
         "31391.0"
        ],
        [
         "4",
         "21520917",
         "2025-01-01",
         "31",
         "0",
         "0.0",
         "0.0",
         "37.2",
         null,
         null,
         null,
         "1.0",
         null,
         "4805.0",
         "0.0"
        ]
       ],
       "shape": {
        "columns": 14,
        "rows": 5
       }
      },
      "text/html": [
       "<div>\n",
       "<style scoped>\n",
       "    .dataframe tbody tr th:only-of-type {\n",
       "        vertical-align: middle;\n",
       "    }\n",
       "\n",
       "    .dataframe tbody tr th {\n",
       "        vertical-align: top;\n",
       "    }\n",
       "\n",
       "    .dataframe thead th {\n",
       "        text-align: right;\n",
       "    }\n",
       "</style>\n",
       "<table border=\"1\" class=\"dataframe\">\n",
       "  <thead>\n",
       "    <tr style=\"text-align: right;\">\n",
       "      <th></th>\n",
       "      <th>listing_id</th>\n",
       "      <th>date</th>\n",
       "      <th>vacant_days</th>\n",
       "      <th>reserved_days</th>\n",
       "      <th>occupancy</th>\n",
       "      <th>revenue</th>\n",
       "      <th>rate_avg</th>\n",
       "      <th>booked_rate_avg</th>\n",
       "      <th>booking_lead_time_avg</th>\n",
       "      <th>length_of_stay_avg</th>\n",
       "      <th>min_nights_avg</th>\n",
       "      <th>native_booked_rate_avg</th>\n",
       "      <th>native_rate_avg</th>\n",
       "      <th>native_revenue</th>\n",
       "    </tr>\n",
       "  </thead>\n",
       "  <tbody>\n",
       "    <tr>\n",
       "      <th>0</th>\n",
       "      <td>21520917</td>\n",
       "      <td>2024-12-01</td>\n",
       "      <td>22</td>\n",
       "      <td>9</td>\n",
       "      <td>0.29</td>\n",
       "      <td>345.0</td>\n",
       "      <td>37.6</td>\n",
       "      <td>38.3</td>\n",
       "      <td>5.0</td>\n",
       "      <td>9.0</td>\n",
       "      <td>NaN</td>\n",
       "      <td>4960.0</td>\n",
       "      <td>4869.0</td>\n",
       "      <td>44680.0</td>\n",
       "    </tr>\n",
       "    <tr>\n",
       "      <th>1</th>\n",
       "      <td>39875956</td>\n",
       "      <td>2025-08-01</td>\n",
       "      <td>31</td>\n",
       "      <td>0</td>\n",
       "      <td>0.00</td>\n",
       "      <td>0.0</td>\n",
       "      <td>69.1</td>\n",
       "      <td>NaN</td>\n",
       "      <td>NaN</td>\n",
       "      <td>NaN</td>\n",
       "      <td>1.0</td>\n",
       "      <td>NaN</td>\n",
       "      <td>8928.0</td>\n",
       "      <td>0.0</td>\n",
       "    </tr>\n",
       "    <tr>\n",
       "      <th>2</th>\n",
       "      <td>36253079</td>\n",
       "      <td>2025-04-01</td>\n",
       "      <td>30</td>\n",
       "      <td>0</td>\n",
       "      <td>0.00</td>\n",
       "      <td>0.0</td>\n",
       "      <td>33.7</td>\n",
       "      <td>NaN</td>\n",
       "      <td>NaN</td>\n",
       "      <td>NaN</td>\n",
       "      <td>1.0</td>\n",
       "      <td>NaN</td>\n",
       "      <td>4364.0</td>\n",
       "      <td>0.0</td>\n",
       "    </tr>\n",
       "    <tr>\n",
       "      <th>3</th>\n",
       "      <td>40675899</td>\n",
       "      <td>2024-09-01</td>\n",
       "      <td>24</td>\n",
       "      <td>6</td>\n",
       "      <td>0.20</td>\n",
       "      <td>243.0</td>\n",
       "      <td>40.2</td>\n",
       "      <td>40.5</td>\n",
       "      <td>1.0</td>\n",
       "      <td>9.0</td>\n",
       "      <td>NaN</td>\n",
       "      <td>5232.0</td>\n",
       "      <td>5193.0</td>\n",
       "      <td>31391.0</td>\n",
       "    </tr>\n",
       "    <tr>\n",
       "      <th>4</th>\n",
       "      <td>21520917</td>\n",
       "      <td>2025-01-01</td>\n",
       "      <td>31</td>\n",
       "      <td>0</td>\n",
       "      <td>0.00</td>\n",
       "      <td>0.0</td>\n",
       "      <td>37.2</td>\n",
       "      <td>NaN</td>\n",
       "      <td>NaN</td>\n",
       "      <td>NaN</td>\n",
       "      <td>1.0</td>\n",
       "      <td>NaN</td>\n",
       "      <td>4805.0</td>\n",
       "      <td>0.0</td>\n",
       "    </tr>\n",
       "  </tbody>\n",
       "</table>\n",
       "</div>"
      ],
      "text/plain": [
       "   listing_id        date  vacant_days  reserved_days  occupancy  revenue  \\\n",
       "0    21520917  2024-12-01           22              9       0.29    345.0   \n",
       "1    39875956  2025-08-01           31              0       0.00      0.0   \n",
       "2    36253079  2025-04-01           30              0       0.00      0.0   \n",
       "3    40675899  2024-09-01           24              6       0.20    243.0   \n",
       "4    21520917  2025-01-01           31              0       0.00      0.0   \n",
       "\n",
       "   rate_avg  booked_rate_avg  booking_lead_time_avg  length_of_stay_avg  \\\n",
       "0      37.6             38.3                    5.0                 9.0   \n",
       "1      69.1              NaN                    NaN                 NaN   \n",
       "2      33.7              NaN                    NaN                 NaN   \n",
       "3      40.2             40.5                    1.0                 9.0   \n",
       "4      37.2              NaN                    NaN                 NaN   \n",
       "\n",
       "   min_nights_avg  native_booked_rate_avg  native_rate_avg  native_revenue  \n",
       "0             NaN                  4960.0           4869.0         44680.0  \n",
       "1             1.0                     NaN           8928.0             0.0  \n",
       "2             1.0                     NaN           4364.0             0.0  \n",
       "3             NaN                  5232.0           5193.0         31391.0  \n",
       "4             1.0                     NaN           4805.0             0.0  "
      ]
     },
     "execution_count": 37,
     "metadata": {},
     "output_type": "execute_result"
    }
   ],
   "source": [
    "# Display the first 5 rows of the past_calendar dataset\n",
    "past_calendar.head()"
   ]
  },
  {
   "cell_type": "code",
   "execution_count": 38,
   "id": "0eeb0cbd",
   "metadata": {},
   "outputs": [
    {
     "data": {
      "application/vnd.microsoft.datawrangler.viewer.v0+json": {
       "columns": [
        {
         "name": "index",
         "rawType": "int64",
         "type": "integer"
        },
        {
         "name": "listing_id",
         "rawType": "int64",
         "type": "integer"
        },
        {
         "name": "date",
         "rawType": "object",
         "type": "string"
        },
        {
         "name": "num_reviews",
         "rawType": "int64",
         "type": "integer"
        },
        {
         "name": "reviewers",
         "rawType": "object",
         "type": "string"
        }
       ],
       "ref": "6aeeb6e3-dbef-4c33-8cd5-03f14f856e9b",
       "rows": [
        [
         "0",
         "16701882",
         "2025-04-01",
         "1",
         "341960500"
        ],
        [
         "1",
         "37808882",
         "2025-05-01",
         "1",
         "424270789"
        ],
        [
         "2",
         "13381106",
         "2024-10-01",
         "3",
         "5995258,172444062,74140354"
        ],
        [
         "3",
         "37808882",
         "2025-07-01",
         "1",
         "381061119"
        ],
        [
         "4",
         "471581",
         "2025-06-01",
         "1",
         "138579311"
        ]
       ],
       "shape": {
        "columns": 4,
        "rows": 5
       }
      },
      "text/html": [
       "<div>\n",
       "<style scoped>\n",
       "    .dataframe tbody tr th:only-of-type {\n",
       "        vertical-align: middle;\n",
       "    }\n",
       "\n",
       "    .dataframe tbody tr th {\n",
       "        vertical-align: top;\n",
       "    }\n",
       "\n",
       "    .dataframe thead th {\n",
       "        text-align: right;\n",
       "    }\n",
       "</style>\n",
       "<table border=\"1\" class=\"dataframe\">\n",
       "  <thead>\n",
       "    <tr style=\"text-align: right;\">\n",
       "      <th></th>\n",
       "      <th>listing_id</th>\n",
       "      <th>date</th>\n",
       "      <th>num_reviews</th>\n",
       "      <th>reviewers</th>\n",
       "    </tr>\n",
       "  </thead>\n",
       "  <tbody>\n",
       "    <tr>\n",
       "      <th>0</th>\n",
       "      <td>16701882</td>\n",
       "      <td>2025-04-01</td>\n",
       "      <td>1</td>\n",
       "      <td>341960500</td>\n",
       "    </tr>\n",
       "    <tr>\n",
       "      <th>1</th>\n",
       "      <td>37808882</td>\n",
       "      <td>2025-05-01</td>\n",
       "      <td>1</td>\n",
       "      <td>424270789</td>\n",
       "    </tr>\n",
       "    <tr>\n",
       "      <th>2</th>\n",
       "      <td>13381106</td>\n",
       "      <td>2024-10-01</td>\n",
       "      <td>3</td>\n",
       "      <td>5995258,172444062,74140354</td>\n",
       "    </tr>\n",
       "    <tr>\n",
       "      <th>3</th>\n",
       "      <td>37808882</td>\n",
       "      <td>2025-07-01</td>\n",
       "      <td>1</td>\n",
       "      <td>381061119</td>\n",
       "    </tr>\n",
       "    <tr>\n",
       "      <th>4</th>\n",
       "      <td>471581</td>\n",
       "      <td>2025-06-01</td>\n",
       "      <td>1</td>\n",
       "      <td>138579311</td>\n",
       "    </tr>\n",
       "  </tbody>\n",
       "</table>\n",
       "</div>"
      ],
      "text/plain": [
       "   listing_id        date  num_reviews                   reviewers\n",
       "0    16701882  2025-04-01            1                   341960500\n",
       "1    37808882  2025-05-01            1                   424270789\n",
       "2    13381106  2024-10-01            3  5995258,172444062,74140354\n",
       "3    37808882  2025-07-01            1                   381061119\n",
       "4      471581  2025-06-01            1                   138579311"
      ]
     },
     "execution_count": 38,
     "metadata": {},
     "output_type": "execute_result"
    }
   ],
   "source": [
    "# Display the first 5 rows of the past_calendar dataset\n",
    "reviews_v2.head()"
   ]
  },
  {
   "cell_type": "markdown",
   "id": "bac927ae",
   "metadata": {},
   "source": [
    "### 3.2 check the columns and the shape of the data "
   ]
  },
  {
   "cell_type": "code",
   "execution_count": 39,
   "id": "cb7ae73d",
   "metadata": {},
   "outputs": [
    {
     "name": "stdout",
     "output_type": "stream",
     "text": [
      "\n",
      "future_calendar:\n",
      "Shape: (3480, 14)\n",
      "Columns: ['listing_id', 'date', 'vacant_days', 'reserved_days', 'occupancy', 'revenue', 'rate_avg', 'booked_rate_avg', 'booking_lead_time_avg', 'length_of_stay_avg', 'min_nights_avg', 'native_booked_rate_avg', 'native_rate_avg', 'native_revenue']\n",
      "\n",
      "listings_v2:\n",
      "Shape: (300, 61)\n",
      "Columns: ['listing_id', 'listing_name', 'listing_type', 'room_type', 'cover_photo_url', 'photos_count', 'host_id', 'host_name', 'cohost_ids', 'cohost_names', 'superhost', 'latitude', 'longitude', 'guests', 'bedrooms', 'beds', 'baths', 'registration', 'amenities', 'instant_book', 'min_nights', 'cancellation_policy', 'currency', 'cleaning_fee', 'extra_guest_fee', 'num_reviews', 'rating_overall', 'rating_accuracy', 'rating_checkin', 'rating_cleanliness', 'rating_communication', 'rating_location', 'rating_value', 'ttm_revenue', 'ttm_revenue_native', 'ttm_avg_rate', 'ttm_avg_rate_native', 'ttm_occupancy', 'ttm_adjusted_occupancy', 'ttm_revpar', 'ttm_revpar_native', 'ttm_adjusted_revpar', 'ttm_adjusted_revpar_native', 'ttm_reserved_days', 'ttm_blocked_days', 'ttm_available_days', 'ttm_total_days', 'l90d_revenue', 'l90d_revenue_native', 'l90d_avg_rate', 'l90d_avg_rate_native', 'l90d_occupancy', 'l90d_adjusted_occupancy', 'l90d_revpar', 'l90d_revpar_native', 'l90d_adjusted_revpar', 'l90d_adjusted_revpar_native', 'l90d_reserved_days', 'l90d_blocked_days', 'l90d_available_days', 'l90d_total_days']\n",
      "\n",
      "past_calendar:\n",
      "Shape: (3542, 14)\n",
      "Columns: ['listing_id', 'date', 'vacant_days', 'reserved_days', 'occupancy', 'revenue', 'rate_avg', 'booked_rate_avg', 'booking_lead_time_avg', 'length_of_stay_avg', 'min_nights_avg', 'native_booked_rate_avg', 'native_rate_avg', 'native_revenue']\n",
      "\n",
      "reviews_v2:\n",
      "Shape: (997, 4)\n",
      "Columns: ['listing_id', 'date', 'num_reviews', 'reviewers']\n"
     ]
    }
   ],
   "source": [
    "# Check shape and columns for each dataset\n",
    "datasets = {\n",
    "    \"future_calendar\": future_calendar,\n",
    "    \"listings_v2\": listings_v2,\n",
    "    \"past_calendar\": past_calendar,\n",
    "    \"reviews_v2\": reviews_v2\n",
    "}\n",
    "\n",
    "for name, df in datasets.items():\n",
    "    print(f\"\\n{name}:\")\n",
    "    print(f\"Shape: {df.shape}\")\n",
    "    print(\"Columns:\", df.columns.tolist())\n"
   ]
  },
  {
   "cell_type": "markdown",
   "id": "b7f3ed31",
   "metadata": {},
   "source": [
    "### 3.3 Summary Statistics "
   ]
  },
  {
   "cell_type": "code",
   "execution_count": 40,
   "id": "43e2371c",
   "metadata": {},
   "outputs": [
    {
     "name": "stdout",
     "output_type": "stream",
     "text": [
      "📊 Future Calendar Summary\n",
      "                          count unique         top freq             mean  \\\n",
      "listing_id              3480.0    NaN         NaN  NaN  27742328.955172   \n",
      "date                      3480     12  2025-11-01  290              NaN   \n",
      "vacant_days             3480.0    NaN         NaN  NaN        28.672414   \n",
      "reserved_days           3480.0    NaN         NaN  NaN         1.744253   \n",
      "occupancy               3480.0    NaN         NaN  NaN         0.057449   \n",
      "revenue                 3480.0    NaN         NaN  NaN       100.619828   \n",
      "rate_avg                3480.0    NaN         NaN  NaN        57.618218   \n",
      "booked_rate_avg          389.0    NaN         NaN  NaN        73.882005   \n",
      "booking_lead_time_avg    243.0    NaN         NaN  NaN       124.893004   \n",
      "length_of_stay_avg       243.0    NaN         NaN  NaN        18.255144   \n",
      "min_nights_avg          3283.0    NaN         NaN  NaN         2.353945   \n",
      "native_booked_rate_avg   389.0    NaN         NaN  NaN       9545.81491   \n",
      "native_rate_avg         3480.0    NaN         NaN  NaN      7444.483333   \n",
      "native_revenue          3480.0    NaN         NaN  NaN     13000.441379   \n",
      "\n",
      "                                    std       min         25%         50%  \\\n",
      "listing_id              11666504.832148  471581.0  19581431.0  30534791.0   \n",
      "date                                NaN       NaN         NaN         NaN   \n",
      "vacant_days                    6.310099       0.0        30.0        31.0   \n",
      "reserved_days                  6.241024       0.0         0.0         0.0   \n",
      "occupancy                      0.205619       0.0         0.0         0.0   \n",
      "revenue                      395.483759       0.0         0.0         0.0   \n",
      "rate_avg                      49.135821       9.6      33.175        48.5   \n",
      "booked_rate_avg               92.313188       9.9        36.0        51.6   \n",
      "booking_lead_time_avg         93.435027       1.0        45.0       111.0   \n",
      "length_of_stay_avg            36.608278       1.0         2.0         5.0   \n",
      "min_nights_avg                 4.238355       1.0         1.0         1.0   \n",
      "native_booked_rate_avg     11927.191334    1279.0      4651.0      6667.0   \n",
      "native_rate_avg             6348.519325    1240.0     4286.75      6266.0   \n",
      "native_revenue             51097.914151       0.0         0.0         0.0   \n",
      "\n",
      "                               75%         max  \n",
      "listing_id              38322583.0  41825730.0  \n",
      "date                           NaN         NaN  \n",
      "vacant_days                   31.0        31.0  \n",
      "reserved_days                  0.0        31.0  \n",
      "occupancy                      0.0         1.0  \n",
      "revenue                        0.0      7696.0  \n",
      "rate_avg                      68.1       655.0  \n",
      "booked_rate_avg               75.7       650.3  \n",
      "booking_lead_time_avg        184.0       373.0  \n",
      "length_of_stay_avg            15.0       239.0  \n",
      "min_nights_avg                 2.0        31.0  \n",
      "native_booked_rate_avg      9781.0     84021.0  \n",
      "native_rate_avg             8799.0     84628.0  \n",
      "native_revenue                 0.0    994351.0  \n",
      "\n",
      "📊 Listings Summary\n",
      "                              count unique  \\\n",
      "listing_id                   300.0    NaN   \n",
      "listing_name                   300    299   \n",
      "listing_type                   300     29   \n",
      "room_type                      300      3   \n",
      "cover_photo_url                300    298   \n",
      "...                            ...    ...   \n",
      "l90d_adjusted_revpar_native  300.0    NaN   \n",
      "l90d_reserved_days           300.0    NaN   \n",
      "l90d_blocked_days            300.0    NaN   \n",
      "l90d_available_days          300.0    NaN   \n",
      "l90d_total_days              300.0    NaN   \n",
      "\n",
      "                                                                           top  \\\n",
      "listing_id                                                                 NaN   \n",
      "listing_name                                 Bonsai Villa - Standard King Room   \n",
      "listing_type                                                Entire rental unit   \n",
      "room_type                                                          entire_home   \n",
      "cover_photo_url              https://a0.muscache.com/im/pictures/7a748e4f-d...   \n",
      "...                                                                        ...   \n",
      "l90d_adjusted_revpar_native                                                NaN   \n",
      "l90d_reserved_days                                                         NaN   \n",
      "l90d_blocked_days                                                          NaN   \n",
      "l90d_available_days                                                        NaN   \n",
      "l90d_total_days                                                            NaN   \n",
      "\n",
      "                            freq         mean              std       min  \\\n",
      "listing_id                   NaN  27654000.57  11685284.945291  471581.0   \n",
      "listing_name                   2          NaN              NaN       NaN   \n",
      "listing_type                 128          NaN              NaN       NaN   \n",
      "room_type                    252          NaN              NaN       NaN   \n",
      "cover_photo_url                3          NaN              NaN       NaN   \n",
      "...                          ...          ...              ...       ...   \n",
      "l90d_adjusted_revpar_native  NaN   598.296667       1431.24471       0.0   \n",
      "l90d_reserved_days           NaN        14.98        18.517088       0.0   \n",
      "l90d_blocked_days            NaN        12.76        22.581308       0.0   \n",
      "l90d_available_days          NaN        75.02        18.517088       5.0   \n",
      "l90d_total_days              NaN         90.0              0.0      90.0   \n",
      "\n",
      "                                     25%         50%          75%         max  \n",
      "listing_id                   19541569.25  30285731.0  38288271.25  41825730.0  \n",
      "listing_name                         NaN         NaN          NaN         NaN  \n",
      "listing_type                         NaN         NaN          NaN         NaN  \n",
      "room_type                            NaN         NaN          NaN         NaN  \n",
      "cover_photo_url                      NaN         NaN          NaN         NaN  \n",
      "...                                  ...         ...          ...         ...  \n",
      "l90d_adjusted_revpar_native          0.0         0.0       358.15      9809.4  \n",
      "l90d_reserved_days                   0.0         7.0         22.0        85.0  \n",
      "l90d_blocked_days                    0.0         0.0         21.0        90.0  \n",
      "l90d_available_days                 68.0        83.0         90.0        90.0  \n",
      "l90d_total_days                     90.0        90.0         90.0        90.0  \n",
      "\n",
      "[61 rows x 11 columns]\n",
      "\n",
      "📊 Past Calendar Summary\n",
      "                          count unique         top freq            mean  \\\n",
      "listing_id              3542.0    NaN         NaN  NaN  27698186.96725   \n",
      "date                      3542     12  2024-12-01  299             NaN   \n",
      "vacant_days             3542.0    NaN         NaN  NaN       24.111801   \n",
      "reserved_days           3542.0    NaN         NaN  NaN        6.302654   \n",
      "occupancy               3542.0    NaN         NaN  NaN        0.207335   \n",
      "revenue                 3542.0    NaN         NaN  NaN      350.712592   \n",
      "rate_avg                3542.0    NaN         NaN  NaN       56.302061   \n",
      "booked_rate_avg         1875.0    NaN         NaN  NaN         57.1528   \n",
      "booking_lead_time_avg   1668.0    NaN         NaN  NaN       27.218825   \n",
      "length_of_stay_avg      1668.0    NaN         NaN  NaN        8.058153   \n",
      "min_nights_avg          2380.0    NaN         NaN  NaN        2.352941   \n",
      "native_booked_rate_avg  1875.0    NaN         NaN  NaN     7384.485333   \n",
      "native_rate_avg         3542.0    NaN         NaN  NaN     7274.477132   \n",
      "native_revenue          3542.0    NaN         NaN  NaN    45314.456804   \n",
      "\n",
      "                                    std       min         25%         50%  \\\n",
      "listing_id              11679046.008305  471581.0  19581431.0  30308601.0   \n",
      "date                                NaN       NaN         NaN         NaN   \n",
      "vacant_days                    8.779706       0.0        20.0        28.0   \n",
      "reserved_days                  8.745056       0.0         0.0         1.0   \n",
      "occupancy                      0.287834       0.0         0.0       0.033   \n",
      "revenue                      759.855315       0.0         0.0        54.5   \n",
      "rate_avg                      52.971477       8.7        31.4        46.7   \n",
      "booked_rate_avg               58.755585       9.0       31.45        46.0   \n",
      "booking_lead_time_avg          44.23383       1.0         1.0        11.0   \n",
      "length_of_stay_avg             9.810054       1.0         2.0         5.0   \n",
      "min_nights_avg                 4.175104       1.0         1.0         1.0   \n",
      "native_booked_rate_avg      7589.300628    1163.0      4059.0      5955.0   \n",
      "native_rate_avg               6844.2532    1124.0     4056.25      6045.5   \n",
      "native_revenue             98140.055884       0.0         0.0      7057.5   \n",
      "\n",
      "                               75%         max  \n",
      "listing_id              38322583.0  41825730.0  \n",
      "date                           NaN         NaN  \n",
      "vacant_days                   31.0        31.0  \n",
      "reserved_days                 10.0        31.0  \n",
      "occupancy                    0.333         1.0  \n",
      "revenue                     456.75     18203.0  \n",
      "rate_avg                      66.4       791.5  \n",
      "booked_rate_avg              66.85       774.8  \n",
      "booking_lead_time_avg         32.0       352.0  \n",
      "length_of_stay_avg            10.0        97.0  \n",
      "min_nights_avg                 2.0        31.0  \n",
      "native_booked_rate_avg      8652.5    100088.0  \n",
      "native_rate_avg             8578.5    102246.0  \n",
      "native_revenue             59069.0   2348193.0  \n",
      "\n",
      "📊 Reviews Summary\n",
      "              count unique         top freq             mean              std  \\\n",
      "listing_id   997.0    NaN         NaN  NaN  27924462.058175  11545800.209521   \n",
      "date           997     12  2025-01-01  112              NaN              NaN   \n",
      "num_reviews  997.0    NaN         NaN  NaN         1.673019         1.150085   \n",
      "reviewers      997    975   669920339    3              NaN              NaN   \n",
      "\n",
      "                  min         25%         50%         75%         max  \n",
      "listing_id   471581.0  20040341.0  31922701.0  38322583.0  41825730.0  \n",
      "date              NaN         NaN         NaN         NaN         NaN  \n",
      "num_reviews       1.0         1.0         1.0         2.0        12.0  \n",
      "reviewers         NaN         NaN         NaN         NaN         NaN  \n"
     ]
    }
   ],
   "source": [
    "# Summary statistics for each dataset\n",
    "print(\"📊 Future Calendar Summary\\n\", future_calendar.describe(include='all').T)\n",
    "print(\"\\n📊 Listings Summary\\n\", listings_v2.describe(include='all').T)\n",
    "print(\"\\n📊 Past Calendar Summary\\n\", past_calendar.describe(include='all').T)\n",
    "print(\"\\n📊 Reviews Summary\\n\", reviews_v2.describe(include='all').T)"
   ]
  },
  {
   "cell_type": "markdown",
   "id": "2ec3f069",
   "metadata": {},
   "source": [
    "### 3.4 Check for Missing Values in both Counts and Percentage "
   ]
  },
  {
   "cell_type": "code",
   "execution_count": 41,
   "id": "21c7da0b",
   "metadata": {},
   "outputs": [
    {
     "name": "stdout",
     "output_type": "stream",
     "text": [
      "Future Calendar Missing Values:\n"
     ]
    },
    {
     "data": {
      "application/vnd.microsoft.datawrangler.viewer.v0+json": {
       "columns": [
        {
         "name": "index",
         "rawType": "object",
         "type": "string"
        },
        {
         "name": "Missing Count",
         "rawType": "int64",
         "type": "integer"
        },
        {
         "name": "Missing Percentage",
         "rawType": "float64",
         "type": "float"
        }
       ],
       "ref": "380e4690-eb94-4b69-8466-845f8e94959a",
       "rows": [
        [
         "booking_lead_time_avg",
         "3237",
         "93.02"
        ],
        [
         "length_of_stay_avg",
         "3237",
         "93.02"
        ],
        [
         "booked_rate_avg",
         "3091",
         "88.82"
        ],
        [
         "native_booked_rate_avg",
         "3091",
         "88.82"
        ],
        [
         "min_nights_avg",
         "197",
         "5.66"
        ]
       ],
       "shape": {
        "columns": 2,
        "rows": 5
       }
      },
      "text/html": [
       "<div>\n",
       "<style scoped>\n",
       "    .dataframe tbody tr th:only-of-type {\n",
       "        vertical-align: middle;\n",
       "    }\n",
       "\n",
       "    .dataframe tbody tr th {\n",
       "        vertical-align: top;\n",
       "    }\n",
       "\n",
       "    .dataframe thead th {\n",
       "        text-align: right;\n",
       "    }\n",
       "</style>\n",
       "<table border=\"1\" class=\"dataframe\">\n",
       "  <thead>\n",
       "    <tr style=\"text-align: right;\">\n",
       "      <th></th>\n",
       "      <th>Missing Count</th>\n",
       "      <th>Missing Percentage</th>\n",
       "    </tr>\n",
       "  </thead>\n",
       "  <tbody>\n",
       "    <tr>\n",
       "      <th>booking_lead_time_avg</th>\n",
       "      <td>3237</td>\n",
       "      <td>93.02</td>\n",
       "    </tr>\n",
       "    <tr>\n",
       "      <th>length_of_stay_avg</th>\n",
       "      <td>3237</td>\n",
       "      <td>93.02</td>\n",
       "    </tr>\n",
       "    <tr>\n",
       "      <th>booked_rate_avg</th>\n",
       "      <td>3091</td>\n",
       "      <td>88.82</td>\n",
       "    </tr>\n",
       "    <tr>\n",
       "      <th>native_booked_rate_avg</th>\n",
       "      <td>3091</td>\n",
       "      <td>88.82</td>\n",
       "    </tr>\n",
       "    <tr>\n",
       "      <th>min_nights_avg</th>\n",
       "      <td>197</td>\n",
       "      <td>5.66</td>\n",
       "    </tr>\n",
       "  </tbody>\n",
       "</table>\n",
       "</div>"
      ],
      "text/plain": [
       "                        Missing Count  Missing Percentage\n",
       "booking_lead_time_avg            3237               93.02\n",
       "length_of_stay_avg               3237               93.02\n",
       "booked_rate_avg                  3091               88.82\n",
       "native_booked_rate_avg           3091               88.82\n",
       "min_nights_avg                    197                5.66"
      ]
     },
     "metadata": {},
     "output_type": "display_data"
    },
    {
     "name": "stdout",
     "output_type": "stream",
     "text": [
      "\n",
      "Listings_v2 Missing Values:\n"
     ]
    },
    {
     "data": {
      "application/vnd.microsoft.datawrangler.viewer.v0+json": {
       "columns": [
        {
         "name": "index",
         "rawType": "object",
         "type": "string"
        },
        {
         "name": "Missing Count",
         "rawType": "int64",
         "type": "integer"
        },
        {
         "name": "Missing Percentage",
         "rawType": "float64",
         "type": "float"
        }
       ],
       "ref": "5070d8a2-1758-498d-985e-dfd8ea2806cd",
       "rows": [
        [
         "cohost_names",
         "225",
         "75.0"
        ],
        [
         "cohost_ids",
         "225",
         "75.0"
        ],
        [
         "bedrooms",
         "51",
         "17.0"
        ],
        [
         "guests",
         "42",
         "14.0"
        ],
        [
         "instant_book",
         "23",
         "7.67"
        ],
        [
         "extra_guest_fee",
         "21",
         "7.0"
        ],
        [
         "rating_value",
         "10",
         "3.33"
        ],
        [
         "rating_accuracy",
         "10",
         "3.33"
        ],
        [
         "rating_location",
         "10",
         "3.33"
        ],
        [
         "rating_communication",
         "10",
         "3.33"
        ],
        [
         "rating_cleanliness",
         "10",
         "3.33"
        ],
        [
         "rating_checkin",
         "10",
         "3.33"
        ],
        [
         "rating_overall",
         "10",
         "3.33"
        ],
        [
         "host_name",
         "4",
         "1.33"
        ],
        [
         "registration",
         "3",
         "1.0"
        ],
        [
         "beds",
         "3",
         "1.0"
        ],
        [
         "cleaning_fee",
         "2",
         "0.67"
        ],
        [
         "min_nights",
         "2",
         "0.67"
        ],
        [
         "cancellation_policy",
         "1",
         "0.33"
        ]
       ],
       "shape": {
        "columns": 2,
        "rows": 19
       }
      },
      "text/html": [
       "<div>\n",
       "<style scoped>\n",
       "    .dataframe tbody tr th:only-of-type {\n",
       "        vertical-align: middle;\n",
       "    }\n",
       "\n",
       "    .dataframe tbody tr th {\n",
       "        vertical-align: top;\n",
       "    }\n",
       "\n",
       "    .dataframe thead th {\n",
       "        text-align: right;\n",
       "    }\n",
       "</style>\n",
       "<table border=\"1\" class=\"dataframe\">\n",
       "  <thead>\n",
       "    <tr style=\"text-align: right;\">\n",
       "      <th></th>\n",
       "      <th>Missing Count</th>\n",
       "      <th>Missing Percentage</th>\n",
       "    </tr>\n",
       "  </thead>\n",
       "  <tbody>\n",
       "    <tr>\n",
       "      <th>cohost_names</th>\n",
       "      <td>225</td>\n",
       "      <td>75.00</td>\n",
       "    </tr>\n",
       "    <tr>\n",
       "      <th>cohost_ids</th>\n",
       "      <td>225</td>\n",
       "      <td>75.00</td>\n",
       "    </tr>\n",
       "    <tr>\n",
       "      <th>bedrooms</th>\n",
       "      <td>51</td>\n",
       "      <td>17.00</td>\n",
       "    </tr>\n",
       "    <tr>\n",
       "      <th>guests</th>\n",
       "      <td>42</td>\n",
       "      <td>14.00</td>\n",
       "    </tr>\n",
       "    <tr>\n",
       "      <th>instant_book</th>\n",
       "      <td>23</td>\n",
       "      <td>7.67</td>\n",
       "    </tr>\n",
       "    <tr>\n",
       "      <th>extra_guest_fee</th>\n",
       "      <td>21</td>\n",
       "      <td>7.00</td>\n",
       "    </tr>\n",
       "    <tr>\n",
       "      <th>rating_value</th>\n",
       "      <td>10</td>\n",
       "      <td>3.33</td>\n",
       "    </tr>\n",
       "    <tr>\n",
       "      <th>rating_accuracy</th>\n",
       "      <td>10</td>\n",
       "      <td>3.33</td>\n",
       "    </tr>\n",
       "    <tr>\n",
       "      <th>rating_location</th>\n",
       "      <td>10</td>\n",
       "      <td>3.33</td>\n",
       "    </tr>\n",
       "    <tr>\n",
       "      <th>rating_communication</th>\n",
       "      <td>10</td>\n",
       "      <td>3.33</td>\n",
       "    </tr>\n",
       "    <tr>\n",
       "      <th>rating_cleanliness</th>\n",
       "      <td>10</td>\n",
       "      <td>3.33</td>\n",
       "    </tr>\n",
       "    <tr>\n",
       "      <th>rating_checkin</th>\n",
       "      <td>10</td>\n",
       "      <td>3.33</td>\n",
       "    </tr>\n",
       "    <tr>\n",
       "      <th>rating_overall</th>\n",
       "      <td>10</td>\n",
       "      <td>3.33</td>\n",
       "    </tr>\n",
       "    <tr>\n",
       "      <th>host_name</th>\n",
       "      <td>4</td>\n",
       "      <td>1.33</td>\n",
       "    </tr>\n",
       "    <tr>\n",
       "      <th>registration</th>\n",
       "      <td>3</td>\n",
       "      <td>1.00</td>\n",
       "    </tr>\n",
       "    <tr>\n",
       "      <th>beds</th>\n",
       "      <td>3</td>\n",
       "      <td>1.00</td>\n",
       "    </tr>\n",
       "    <tr>\n",
       "      <th>cleaning_fee</th>\n",
       "      <td>2</td>\n",
       "      <td>0.67</td>\n",
       "    </tr>\n",
       "    <tr>\n",
       "      <th>min_nights</th>\n",
       "      <td>2</td>\n",
       "      <td>0.67</td>\n",
       "    </tr>\n",
       "    <tr>\n",
       "      <th>cancellation_policy</th>\n",
       "      <td>1</td>\n",
       "      <td>0.33</td>\n",
       "    </tr>\n",
       "  </tbody>\n",
       "</table>\n",
       "</div>"
      ],
      "text/plain": [
       "                      Missing Count  Missing Percentage\n",
       "cohost_names                    225               75.00\n",
       "cohost_ids                      225               75.00\n",
       "bedrooms                         51               17.00\n",
       "guests                           42               14.00\n",
       "instant_book                     23                7.67\n",
       "extra_guest_fee                  21                7.00\n",
       "rating_value                     10                3.33\n",
       "rating_accuracy                  10                3.33\n",
       "rating_location                  10                3.33\n",
       "rating_communication             10                3.33\n",
       "rating_cleanliness               10                3.33\n",
       "rating_checkin                   10                3.33\n",
       "rating_overall                   10                3.33\n",
       "host_name                         4                1.33\n",
       "registration                      3                1.00\n",
       "beds                              3                1.00\n",
       "cleaning_fee                      2                0.67\n",
       "min_nights                        2                0.67\n",
       "cancellation_policy               1                0.33"
      ]
     },
     "metadata": {},
     "output_type": "display_data"
    },
    {
     "name": "stdout",
     "output_type": "stream",
     "text": [
      "\n",
      "Past Calendar Missing Values:\n"
     ]
    },
    {
     "data": {
      "application/vnd.microsoft.datawrangler.viewer.v0+json": {
       "columns": [
        {
         "name": "index",
         "rawType": "object",
         "type": "string"
        },
        {
         "name": "Missing Count",
         "rawType": "int64",
         "type": "integer"
        },
        {
         "name": "Missing Percentage",
         "rawType": "float64",
         "type": "float"
        }
       ],
       "ref": "4af6f3d7-f6d7-478e-aa19-70ee34291d2c",
       "rows": [
        [
         "booking_lead_time_avg",
         "1874",
         "52.91"
        ],
        [
         "length_of_stay_avg",
         "1874",
         "52.91"
        ],
        [
         "booked_rate_avg",
         "1667",
         "47.06"
        ],
        [
         "native_booked_rate_avg",
         "1667",
         "47.06"
        ],
        [
         "min_nights_avg",
         "1162",
         "32.81"
        ]
       ],
       "shape": {
        "columns": 2,
        "rows": 5
       }
      },
      "text/html": [
       "<div>\n",
       "<style scoped>\n",
       "    .dataframe tbody tr th:only-of-type {\n",
       "        vertical-align: middle;\n",
       "    }\n",
       "\n",
       "    .dataframe tbody tr th {\n",
       "        vertical-align: top;\n",
       "    }\n",
       "\n",
       "    .dataframe thead th {\n",
       "        text-align: right;\n",
       "    }\n",
       "</style>\n",
       "<table border=\"1\" class=\"dataframe\">\n",
       "  <thead>\n",
       "    <tr style=\"text-align: right;\">\n",
       "      <th></th>\n",
       "      <th>Missing Count</th>\n",
       "      <th>Missing Percentage</th>\n",
       "    </tr>\n",
       "  </thead>\n",
       "  <tbody>\n",
       "    <tr>\n",
       "      <th>booking_lead_time_avg</th>\n",
       "      <td>1874</td>\n",
       "      <td>52.91</td>\n",
       "    </tr>\n",
       "    <tr>\n",
       "      <th>length_of_stay_avg</th>\n",
       "      <td>1874</td>\n",
       "      <td>52.91</td>\n",
       "    </tr>\n",
       "    <tr>\n",
       "      <th>booked_rate_avg</th>\n",
       "      <td>1667</td>\n",
       "      <td>47.06</td>\n",
       "    </tr>\n",
       "    <tr>\n",
       "      <th>native_booked_rate_avg</th>\n",
       "      <td>1667</td>\n",
       "      <td>47.06</td>\n",
       "    </tr>\n",
       "    <tr>\n",
       "      <th>min_nights_avg</th>\n",
       "      <td>1162</td>\n",
       "      <td>32.81</td>\n",
       "    </tr>\n",
       "  </tbody>\n",
       "</table>\n",
       "</div>"
      ],
      "text/plain": [
       "                        Missing Count  Missing Percentage\n",
       "booking_lead_time_avg            1874               52.91\n",
       "length_of_stay_avg               1874               52.91\n",
       "booked_rate_avg                  1667               47.06\n",
       "native_booked_rate_avg           1667               47.06\n",
       "min_nights_avg                   1162               32.81"
      ]
     },
     "metadata": {},
     "output_type": "display_data"
    },
    {
     "name": "stdout",
     "output_type": "stream",
     "text": [
      "\n",
      "Reviews_v2 Missing Values:\n"
     ]
    },
    {
     "data": {
      "application/vnd.microsoft.datawrangler.viewer.v0+json": {
       "columns": [
        {
         "name": "index",
         "rawType": "object",
         "type": "unknown"
        },
        {
         "name": "Missing Count",
         "rawType": "int64",
         "type": "integer"
        },
        {
         "name": "Missing Percentage",
         "rawType": "float64",
         "type": "float"
        }
       ],
       "ref": "278b42e8-2f46-43c7-aacb-180e532b698c",
       "rows": [],
       "shape": {
        "columns": 2,
        "rows": 0
       }
      },
      "text/html": [
       "<div>\n",
       "<style scoped>\n",
       "    .dataframe tbody tr th:only-of-type {\n",
       "        vertical-align: middle;\n",
       "    }\n",
       "\n",
       "    .dataframe tbody tr th {\n",
       "        vertical-align: top;\n",
       "    }\n",
       "\n",
       "    .dataframe thead th {\n",
       "        text-align: right;\n",
       "    }\n",
       "</style>\n",
       "<table border=\"1\" class=\"dataframe\">\n",
       "  <thead>\n",
       "    <tr style=\"text-align: right;\">\n",
       "      <th></th>\n",
       "      <th>Missing Count</th>\n",
       "      <th>Missing Percentage</th>\n",
       "    </tr>\n",
       "  </thead>\n",
       "  <tbody>\n",
       "  </tbody>\n",
       "</table>\n",
       "</div>"
      ],
      "text/plain": [
       "Empty DataFrame\n",
       "Columns: [Missing Count, Missing Percentage]\n",
       "Index: []"
      ]
     },
     "metadata": {},
     "output_type": "display_data"
    }
   ],
   "source": [
    "# Function to check missing values in count and percentage\n",
    "def missing_values_summary(df):\n",
    "    missing_count = df.isnull().sum()\n",
    "    missing_percent = (missing_count / len(df)) * 100\n",
    "    missing_summary = pd.DataFrame({\n",
    "        'Missing Count': missing_count,\n",
    "        'Missing Percentage': missing_percent.round(2)\n",
    "    })\n",
    "    return missing_summary[missing_summary['Missing Count'] > 0].sort_values(by='Missing Count', ascending=False)\n",
    "\n",
    "# Check missing values for each dataset\n",
    "print(\"Future Calendar Missing Values:\")\n",
    "display(missing_values_summary(future_calendar))\n",
    "\n",
    "print(\"\\nListings_v2 Missing Values:\")\n",
    "display(missing_values_summary(listings_v2))\n",
    "\n",
    "print(\"\\nPast Calendar Missing Values:\")\n",
    "display(missing_values_summary(past_calendar))\n",
    "\n",
    "print(\"\\nReviews_v2 Missing Values:\")\n",
    "display(missing_values_summary(reviews_v2))\n"
   ]
  },
  {
   "cell_type": "markdown",
   "id": "a46902bf",
   "metadata": {},
   "source": [
    "### 3.5 Check for unique values "
   ]
  },
  {
   "cell_type": "code",
   "execution_count": 42,
   "id": "631bd749",
   "metadata": {},
   "outputs": [
    {
     "name": "stdout",
     "output_type": "stream",
     "text": [
      "🔹 Future Calendar Unique Values:\n"
     ]
    },
    {
     "data": {
      "application/vnd.microsoft.datawrangler.viewer.v0+json": {
       "columns": [
        {
         "name": "index",
         "rawType": "object",
         "type": "string"
        },
        {
         "name": "Unique Values Count",
         "rawType": "int64",
         "type": "integer"
        }
       ],
       "ref": "53bf702b-cdf5-4c35-8455-7e7b0416343c",
       "rows": [
        [
         "rate_avg",
         "1033"
        ],
        [
         "native_rate_avg",
         "1033"
        ],
        [
         "revenue",
         "352"
        ],
        [
         "native_revenue",
         "352"
        ],
        [
         "booked_rate_avg",
         "302"
        ],
        [
         "native_booked_rate_avg",
         "302"
        ],
        [
         "listing_id",
         "290"
        ],
        [
         "booking_lead_time_avg",
         "159"
        ],
        [
         "occupancy",
         "59"
        ],
        [
         "length_of_stay_avg",
         "49"
        ],
        [
         "vacant_days",
         "31"
        ],
        [
         "reserved_days",
         "30"
        ],
        [
         "date",
         "12"
        ],
        [
         "min_nights_avg",
         "10"
        ]
       ],
       "shape": {
        "columns": 1,
        "rows": 14
       }
      },
      "text/html": [
       "<div>\n",
       "<style scoped>\n",
       "    .dataframe tbody tr th:only-of-type {\n",
       "        vertical-align: middle;\n",
       "    }\n",
       "\n",
       "    .dataframe tbody tr th {\n",
       "        vertical-align: top;\n",
       "    }\n",
       "\n",
       "    .dataframe thead th {\n",
       "        text-align: right;\n",
       "    }\n",
       "</style>\n",
       "<table border=\"1\" class=\"dataframe\">\n",
       "  <thead>\n",
       "    <tr style=\"text-align: right;\">\n",
       "      <th></th>\n",
       "      <th>Unique Values Count</th>\n",
       "    </tr>\n",
       "  </thead>\n",
       "  <tbody>\n",
       "    <tr>\n",
       "      <th>rate_avg</th>\n",
       "      <td>1033</td>\n",
       "    </tr>\n",
       "    <tr>\n",
       "      <th>native_rate_avg</th>\n",
       "      <td>1033</td>\n",
       "    </tr>\n",
       "    <tr>\n",
       "      <th>revenue</th>\n",
       "      <td>352</td>\n",
       "    </tr>\n",
       "    <tr>\n",
       "      <th>native_revenue</th>\n",
       "      <td>352</td>\n",
       "    </tr>\n",
       "    <tr>\n",
       "      <th>booked_rate_avg</th>\n",
       "      <td>302</td>\n",
       "    </tr>\n",
       "    <tr>\n",
       "      <th>native_booked_rate_avg</th>\n",
       "      <td>302</td>\n",
       "    </tr>\n",
       "    <tr>\n",
       "      <th>listing_id</th>\n",
       "      <td>290</td>\n",
       "    </tr>\n",
       "    <tr>\n",
       "      <th>booking_lead_time_avg</th>\n",
       "      <td>159</td>\n",
       "    </tr>\n",
       "    <tr>\n",
       "      <th>occupancy</th>\n",
       "      <td>59</td>\n",
       "    </tr>\n",
       "    <tr>\n",
       "      <th>length_of_stay_avg</th>\n",
       "      <td>49</td>\n",
       "    </tr>\n",
       "    <tr>\n",
       "      <th>vacant_days</th>\n",
       "      <td>31</td>\n",
       "    </tr>\n",
       "    <tr>\n",
       "      <th>reserved_days</th>\n",
       "      <td>30</td>\n",
       "    </tr>\n",
       "    <tr>\n",
       "      <th>date</th>\n",
       "      <td>12</td>\n",
       "    </tr>\n",
       "    <tr>\n",
       "      <th>min_nights_avg</th>\n",
       "      <td>10</td>\n",
       "    </tr>\n",
       "  </tbody>\n",
       "</table>\n",
       "</div>"
      ],
      "text/plain": [
       "                        Unique Values Count\n",
       "rate_avg                               1033\n",
       "native_rate_avg                        1033\n",
       "revenue                                 352\n",
       "native_revenue                          352\n",
       "booked_rate_avg                         302\n",
       "native_booked_rate_avg                  302\n",
       "listing_id                              290\n",
       "booking_lead_time_avg                   159\n",
       "occupancy                                59\n",
       "length_of_stay_avg                       49\n",
       "vacant_days                              31\n",
       "reserved_days                            30\n",
       "date                                     12\n",
       "min_nights_avg                           10"
      ]
     },
     "metadata": {},
     "output_type": "display_data"
    },
    {
     "name": "stdout",
     "output_type": "stream",
     "text": [
      "\n",
      "🔹 Listings_v2 Unique Values:\n"
     ]
    },
    {
     "data": {
      "application/vnd.microsoft.datawrangler.viewer.v0+json": {
       "columns": [
        {
         "name": "index",
         "rawType": "object",
         "type": "string"
        },
        {
         "name": "Unique Values Count",
         "rawType": "int64",
         "type": "integer"
        }
       ],
       "ref": "fdffab3d-4c67-408b-a837-fe9280b2ed1e",
       "rows": [
        [
         "listing_id",
         "300"
        ],
        [
         "ttm_revpar_native",
         "300"
        ],
        [
         "ttm_avg_rate_native",
         "300"
        ],
        [
         "ttm_revenue_native",
         "300"
        ],
        [
         "listing_name",
         "299"
        ],
        [
         "cover_photo_url",
         "298"
        ],
        [
         "amenities",
         "297"
        ],
        [
         "ttm_revenue",
         "294"
        ],
        [
         "l90d_avg_rate_native",
         "289"
        ],
        [
         "ttm_avg_rate",
         "256"
        ],
        [
         "l90d_avg_rate",
         "254"
        ],
        [
         "latitude",
         "247"
        ],
        [
         "longitude",
         "247"
        ],
        [
         "l90d_revenue_native",
         "207"
        ],
        [
         "host_id",
         "204"
        ],
        [
         "l90d_revpar_native",
         "203"
        ],
        [
         "l90d_revenue",
         "202"
        ],
        [
         "ttm_adjusted_revpar_native",
         "185"
        ],
        [
         "host_name",
         "167"
        ],
        [
         "ttm_revpar",
         "159"
        ],
        [
         "ttm_adjusted_occupancy",
         "157"
        ],
        [
         "l90d_revpar",
         "146"
        ],
        [
         "ttm_occupancy",
         "141"
        ],
        [
         "ttm_reserved_days",
         "141"
        ],
        [
         "ttm_available_days",
         "141"
        ],
        [
         "ttm_adjusted_revpar",
         "136"
        ],
        [
         "num_reviews",
         "124"
        ],
        [
         "ttm_blocked_days",
         "115"
        ],
        [
         "l90d_adjusted_revpar_native",
         "81"
        ],
        [
         "l90d_adjusted_occupancy",
         "77"
        ],
        [
         "l90d_adjusted_revpar",
         "67"
        ],
        [
         "photos_count",
         "64"
        ],
        [
         "rating_overall",
         "63"
        ],
        [
         "l90d_reserved_days",
         "59"
        ],
        [
         "l90d_occupancy",
         "59"
        ],
        [
         "l90d_available_days",
         "59"
        ],
        [
         "l90d_blocked_days",
         "52"
        ],
        [
         "cohost_ids",
         "51"
        ],
        [
         "cohost_names",
         "47"
        ],
        [
         "cleaning_fee",
         "29"
        ],
        [
         "listing_type",
         "29"
        ],
        [
         "extra_guest_fee",
         "20"
        ],
        [
         "beds",
         "12"
        ],
        [
         "rating_accuracy",
         "12"
        ],
        [
         "baths",
         "12"
        ],
        [
         "rating_value",
         "11"
        ],
        [
         "rating_cleanliness",
         "11"
        ],
        [
         "guests",
         "11"
        ],
        [
         "rating_location",
         "11"
        ],
        [
         "rating_communication",
         "9"
        ]
       ],
       "shape": {
        "columns": 1,
        "rows": 61
       }
      },
      "text/html": [
       "<div>\n",
       "<style scoped>\n",
       "    .dataframe tbody tr th:only-of-type {\n",
       "        vertical-align: middle;\n",
       "    }\n",
       "\n",
       "    .dataframe tbody tr th {\n",
       "        vertical-align: top;\n",
       "    }\n",
       "\n",
       "    .dataframe thead th {\n",
       "        text-align: right;\n",
       "    }\n",
       "</style>\n",
       "<table border=\"1\" class=\"dataframe\">\n",
       "  <thead>\n",
       "    <tr style=\"text-align: right;\">\n",
       "      <th></th>\n",
       "      <th>Unique Values Count</th>\n",
       "    </tr>\n",
       "  </thead>\n",
       "  <tbody>\n",
       "    <tr>\n",
       "      <th>listing_id</th>\n",
       "      <td>300</td>\n",
       "    </tr>\n",
       "    <tr>\n",
       "      <th>ttm_revpar_native</th>\n",
       "      <td>300</td>\n",
       "    </tr>\n",
       "    <tr>\n",
       "      <th>ttm_avg_rate_native</th>\n",
       "      <td>300</td>\n",
       "    </tr>\n",
       "    <tr>\n",
       "      <th>ttm_revenue_native</th>\n",
       "      <td>300</td>\n",
       "    </tr>\n",
       "    <tr>\n",
       "      <th>listing_name</th>\n",
       "      <td>299</td>\n",
       "    </tr>\n",
       "    <tr>\n",
       "      <th>...</th>\n",
       "      <td>...</td>\n",
       "    </tr>\n",
       "    <tr>\n",
       "      <th>registration</th>\n",
       "      <td>2</td>\n",
       "    </tr>\n",
       "    <tr>\n",
       "      <th>superhost</th>\n",
       "      <td>2</td>\n",
       "    </tr>\n",
       "    <tr>\n",
       "      <th>ttm_total_days</th>\n",
       "      <td>1</td>\n",
       "    </tr>\n",
       "    <tr>\n",
       "      <th>currency</th>\n",
       "      <td>1</td>\n",
       "    </tr>\n",
       "    <tr>\n",
       "      <th>l90d_total_days</th>\n",
       "      <td>1</td>\n",
       "    </tr>\n",
       "  </tbody>\n",
       "</table>\n",
       "<p>61 rows × 1 columns</p>\n",
       "</div>"
      ],
      "text/plain": [
       "                     Unique Values Count\n",
       "listing_id                           300\n",
       "ttm_revpar_native                    300\n",
       "ttm_avg_rate_native                  300\n",
       "ttm_revenue_native                   300\n",
       "listing_name                         299\n",
       "...                                  ...\n",
       "registration                           2\n",
       "superhost                              2\n",
       "ttm_total_days                         1\n",
       "currency                               1\n",
       "l90d_total_days                        1\n",
       "\n",
       "[61 rows x 1 columns]"
      ]
     },
     "metadata": {},
     "output_type": "display_data"
    },
    {
     "name": "stdout",
     "output_type": "stream",
     "text": [
      "\n",
      "🔹 Past Calendar Unique Values:\n"
     ]
    },
    {
     "data": {
      "application/vnd.microsoft.datawrangler.viewer.v0+json": {
       "columns": [
        {
         "name": "index",
         "rawType": "object",
         "type": "string"
        },
        {
         "name": "Unique Values Count",
         "rawType": "int64",
         "type": "integer"
        }
       ],
       "ref": "05375f6e-d71f-4791-b4df-95dad463b3e5",
       "rows": [
        [
         "native_rate_avg",
         "2368"
        ],
        [
         "native_revenue",
         "1681"
        ],
        [
         "native_booked_rate_avg",
         "1468"
        ],
        [
         "rate_avg",
         "1061"
        ],
        [
         "revenue",
         "1043"
        ],
        [
         "booked_rate_avg",
         "822"
        ],
        [
         "listing_id",
         "300"
        ],
        [
         "booking_lead_time_avg",
         "169"
        ],
        [
         "occupancy",
         "87"
        ],
        [
         "length_of_stay_avg",
         "58"
        ],
        [
         "vacant_days",
         "32"
        ],
        [
         "reserved_days",
         "32"
        ],
        [
         "min_nights_avg",
         "15"
        ],
        [
         "date",
         "12"
        ]
       ],
       "shape": {
        "columns": 1,
        "rows": 14
       }
      },
      "text/html": [
       "<div>\n",
       "<style scoped>\n",
       "    .dataframe tbody tr th:only-of-type {\n",
       "        vertical-align: middle;\n",
       "    }\n",
       "\n",
       "    .dataframe tbody tr th {\n",
       "        vertical-align: top;\n",
       "    }\n",
       "\n",
       "    .dataframe thead th {\n",
       "        text-align: right;\n",
       "    }\n",
       "</style>\n",
       "<table border=\"1\" class=\"dataframe\">\n",
       "  <thead>\n",
       "    <tr style=\"text-align: right;\">\n",
       "      <th></th>\n",
       "      <th>Unique Values Count</th>\n",
       "    </tr>\n",
       "  </thead>\n",
       "  <tbody>\n",
       "    <tr>\n",
       "      <th>native_rate_avg</th>\n",
       "      <td>2368</td>\n",
       "    </tr>\n",
       "    <tr>\n",
       "      <th>native_revenue</th>\n",
       "      <td>1681</td>\n",
       "    </tr>\n",
       "    <tr>\n",
       "      <th>native_booked_rate_avg</th>\n",
       "      <td>1468</td>\n",
       "    </tr>\n",
       "    <tr>\n",
       "      <th>rate_avg</th>\n",
       "      <td>1061</td>\n",
       "    </tr>\n",
       "    <tr>\n",
       "      <th>revenue</th>\n",
       "      <td>1043</td>\n",
       "    </tr>\n",
       "    <tr>\n",
       "      <th>booked_rate_avg</th>\n",
       "      <td>822</td>\n",
       "    </tr>\n",
       "    <tr>\n",
       "      <th>listing_id</th>\n",
       "      <td>300</td>\n",
       "    </tr>\n",
       "    <tr>\n",
       "      <th>booking_lead_time_avg</th>\n",
       "      <td>169</td>\n",
       "    </tr>\n",
       "    <tr>\n",
       "      <th>occupancy</th>\n",
       "      <td>87</td>\n",
       "    </tr>\n",
       "    <tr>\n",
       "      <th>length_of_stay_avg</th>\n",
       "      <td>58</td>\n",
       "    </tr>\n",
       "    <tr>\n",
       "      <th>vacant_days</th>\n",
       "      <td>32</td>\n",
       "    </tr>\n",
       "    <tr>\n",
       "      <th>reserved_days</th>\n",
       "      <td>32</td>\n",
       "    </tr>\n",
       "    <tr>\n",
       "      <th>min_nights_avg</th>\n",
       "      <td>15</td>\n",
       "    </tr>\n",
       "    <tr>\n",
       "      <th>date</th>\n",
       "      <td>12</td>\n",
       "    </tr>\n",
       "  </tbody>\n",
       "</table>\n",
       "</div>"
      ],
      "text/plain": [
       "                        Unique Values Count\n",
       "native_rate_avg                        2368\n",
       "native_revenue                         1681\n",
       "native_booked_rate_avg                 1468\n",
       "rate_avg                               1061\n",
       "revenue                                1043\n",
       "booked_rate_avg                         822\n",
       "listing_id                              300\n",
       "booking_lead_time_avg                   169\n",
       "occupancy                                87\n",
       "length_of_stay_avg                       58\n",
       "vacant_days                              32\n",
       "reserved_days                            32\n",
       "min_nights_avg                           15\n",
       "date                                     12"
      ]
     },
     "metadata": {},
     "output_type": "display_data"
    },
    {
     "name": "stdout",
     "output_type": "stream",
     "text": [
      "\n",
      "🔹 Reviews_v2 Unique Values:\n"
     ]
    },
    {
     "data": {
      "application/vnd.microsoft.datawrangler.viewer.v0+json": {
       "columns": [
        {
         "name": "index",
         "rawType": "object",
         "type": "string"
        },
        {
         "name": "Unique Values Count",
         "rawType": "int64",
         "type": "integer"
        }
       ],
       "ref": "97edc71e-a649-45ad-9b63-8b35ff4d3d4f",
       "rows": [
        [
         "reviewers",
         "975"
        ],
        [
         "listing_id",
         "242"
        ],
        [
         "date",
         "12"
        ],
        [
         "num_reviews",
         "10"
        ]
       ],
       "shape": {
        "columns": 1,
        "rows": 4
       }
      },
      "text/html": [
       "<div>\n",
       "<style scoped>\n",
       "    .dataframe tbody tr th:only-of-type {\n",
       "        vertical-align: middle;\n",
       "    }\n",
       "\n",
       "    .dataframe tbody tr th {\n",
       "        vertical-align: top;\n",
       "    }\n",
       "\n",
       "    .dataframe thead th {\n",
       "        text-align: right;\n",
       "    }\n",
       "</style>\n",
       "<table border=\"1\" class=\"dataframe\">\n",
       "  <thead>\n",
       "    <tr style=\"text-align: right;\">\n",
       "      <th></th>\n",
       "      <th>Unique Values Count</th>\n",
       "    </tr>\n",
       "  </thead>\n",
       "  <tbody>\n",
       "    <tr>\n",
       "      <th>reviewers</th>\n",
       "      <td>975</td>\n",
       "    </tr>\n",
       "    <tr>\n",
       "      <th>listing_id</th>\n",
       "      <td>242</td>\n",
       "    </tr>\n",
       "    <tr>\n",
       "      <th>date</th>\n",
       "      <td>12</td>\n",
       "    </tr>\n",
       "    <tr>\n",
       "      <th>num_reviews</th>\n",
       "      <td>10</td>\n",
       "    </tr>\n",
       "  </tbody>\n",
       "</table>\n",
       "</div>"
      ],
      "text/plain": [
       "             Unique Values Count\n",
       "reviewers                    975\n",
       "listing_id                   242\n",
       "date                          12\n",
       "num_reviews                   10"
      ]
     },
     "metadata": {},
     "output_type": "display_data"
    }
   ],
   "source": [
    "# Function to check unique values per column\n",
    "def unique_values_summary(df):\n",
    "    unique_counts = df.nunique()\n",
    "    unique_summary = pd.DataFrame({\n",
    "        'Unique Values Count': unique_counts\n",
    "    })\n",
    "    return unique_summary.sort_values(by='Unique Values Count', ascending=False)\n",
    "\n",
    "# ================================\n",
    "# Check unique values per dataset\n",
    "# ================================\n",
    "\n",
    "print(\"🔹 Future Calendar Unique Values:\")\n",
    "display(unique_values_summary(future_calendar))\n",
    "\n",
    "print(\"\\n🔹 Listings_v2 Unique Values:\")\n",
    "display(unique_values_summary(listings_v2))\n",
    "\n",
    "print(\"\\n🔹 Past Calendar Unique Values:\")\n",
    "display(unique_values_summary(past_calendar))\n",
    "\n",
    "print(\"\\n🔹 Reviews_v2 Unique Values:\")\n",
    "display(unique_values_summary(reviews_v2))\n"
   ]
  },
  {
   "cell_type": "markdown",
   "id": "618c93fc",
   "metadata": {},
   "source": [
    "### 3.6 Check data types "
   ]
  },
  {
   "cell_type": "code",
   "execution_count": 43,
   "id": "087f6246",
   "metadata": {},
   "outputs": [
    {
     "name": "stdout",
     "output_type": "stream",
     "text": [
      "🔹 Future Calendar Data Types:\n"
     ]
    },
    {
     "data": {
      "application/vnd.microsoft.datawrangler.viewer.v0+json": {
       "columns": [
        {
         "name": "index",
         "rawType": "object",
         "type": "string"
        },
        {
         "name": "Data Type",
         "rawType": "object",
         "type": "unknown"
        },
        {
         "name": "Non-Null Count",
         "rawType": "int64",
         "type": "integer"
        },
        {
         "name": "Null Count",
         "rawType": "int64",
         "type": "integer"
        }
       ],
       "ref": "b518756d-6983-4e22-bf43-10193b9deaf5",
       "rows": [
        [
         "listing_id",
         "int64",
         "3480",
         "0"
        ],
        [
         "date",
         "object",
         "3480",
         "0"
        ],
        [
         "vacant_days",
         "int64",
         "3480",
         "0"
        ],
        [
         "reserved_days",
         "int64",
         "3480",
         "0"
        ],
        [
         "occupancy",
         "float64",
         "3480",
         "0"
        ],
        [
         "revenue",
         "float64",
         "3480",
         "0"
        ],
        [
         "rate_avg",
         "float64",
         "3480",
         "0"
        ],
        [
         "booked_rate_avg",
         "float64",
         "389",
         "3091"
        ],
        [
         "booking_lead_time_avg",
         "float64",
         "243",
         "3237"
        ],
        [
         "length_of_stay_avg",
         "float64",
         "243",
         "3237"
        ],
        [
         "min_nights_avg",
         "float64",
         "3283",
         "197"
        ],
        [
         "native_booked_rate_avg",
         "float64",
         "389",
         "3091"
        ],
        [
         "native_rate_avg",
         "float64",
         "3480",
         "0"
        ],
        [
         "native_revenue",
         "float64",
         "3480",
         "0"
        ]
       ],
       "shape": {
        "columns": 3,
        "rows": 14
       }
      },
      "text/html": [
       "<div>\n",
       "<style scoped>\n",
       "    .dataframe tbody tr th:only-of-type {\n",
       "        vertical-align: middle;\n",
       "    }\n",
       "\n",
       "    .dataframe tbody tr th {\n",
       "        vertical-align: top;\n",
       "    }\n",
       "\n",
       "    .dataframe thead th {\n",
       "        text-align: right;\n",
       "    }\n",
       "</style>\n",
       "<table border=\"1\" class=\"dataframe\">\n",
       "  <thead>\n",
       "    <tr style=\"text-align: right;\">\n",
       "      <th></th>\n",
       "      <th>Data Type</th>\n",
       "      <th>Non-Null Count</th>\n",
       "      <th>Null Count</th>\n",
       "    </tr>\n",
       "  </thead>\n",
       "  <tbody>\n",
       "    <tr>\n",
       "      <th>listing_id</th>\n",
       "      <td>int64</td>\n",
       "      <td>3480</td>\n",
       "      <td>0</td>\n",
       "    </tr>\n",
       "    <tr>\n",
       "      <th>date</th>\n",
       "      <td>object</td>\n",
       "      <td>3480</td>\n",
       "      <td>0</td>\n",
       "    </tr>\n",
       "    <tr>\n",
       "      <th>vacant_days</th>\n",
       "      <td>int64</td>\n",
       "      <td>3480</td>\n",
       "      <td>0</td>\n",
       "    </tr>\n",
       "    <tr>\n",
       "      <th>reserved_days</th>\n",
       "      <td>int64</td>\n",
       "      <td>3480</td>\n",
       "      <td>0</td>\n",
       "    </tr>\n",
       "    <tr>\n",
       "      <th>occupancy</th>\n",
       "      <td>float64</td>\n",
       "      <td>3480</td>\n",
       "      <td>0</td>\n",
       "    </tr>\n",
       "    <tr>\n",
       "      <th>revenue</th>\n",
       "      <td>float64</td>\n",
       "      <td>3480</td>\n",
       "      <td>0</td>\n",
       "    </tr>\n",
       "    <tr>\n",
       "      <th>rate_avg</th>\n",
       "      <td>float64</td>\n",
       "      <td>3480</td>\n",
       "      <td>0</td>\n",
       "    </tr>\n",
       "    <tr>\n",
       "      <th>booked_rate_avg</th>\n",
       "      <td>float64</td>\n",
       "      <td>389</td>\n",
       "      <td>3091</td>\n",
       "    </tr>\n",
       "    <tr>\n",
       "      <th>booking_lead_time_avg</th>\n",
       "      <td>float64</td>\n",
       "      <td>243</td>\n",
       "      <td>3237</td>\n",
       "    </tr>\n",
       "    <tr>\n",
       "      <th>length_of_stay_avg</th>\n",
       "      <td>float64</td>\n",
       "      <td>243</td>\n",
       "      <td>3237</td>\n",
       "    </tr>\n",
       "    <tr>\n",
       "      <th>min_nights_avg</th>\n",
       "      <td>float64</td>\n",
       "      <td>3283</td>\n",
       "      <td>197</td>\n",
       "    </tr>\n",
       "    <tr>\n",
       "      <th>native_booked_rate_avg</th>\n",
       "      <td>float64</td>\n",
       "      <td>389</td>\n",
       "      <td>3091</td>\n",
       "    </tr>\n",
       "    <tr>\n",
       "      <th>native_rate_avg</th>\n",
       "      <td>float64</td>\n",
       "      <td>3480</td>\n",
       "      <td>0</td>\n",
       "    </tr>\n",
       "    <tr>\n",
       "      <th>native_revenue</th>\n",
       "      <td>float64</td>\n",
       "      <td>3480</td>\n",
       "      <td>0</td>\n",
       "    </tr>\n",
       "  </tbody>\n",
       "</table>\n",
       "</div>"
      ],
      "text/plain": [
       "                       Data Type  Non-Null Count  Null Count\n",
       "listing_id                 int64            3480           0\n",
       "date                      object            3480           0\n",
       "vacant_days                int64            3480           0\n",
       "reserved_days              int64            3480           0\n",
       "occupancy                float64            3480           0\n",
       "revenue                  float64            3480           0\n",
       "rate_avg                 float64            3480           0\n",
       "booked_rate_avg          float64             389        3091\n",
       "booking_lead_time_avg    float64             243        3237\n",
       "length_of_stay_avg       float64             243        3237\n",
       "min_nights_avg           float64            3283         197\n",
       "native_booked_rate_avg   float64             389        3091\n",
       "native_rate_avg          float64            3480           0\n",
       "native_revenue           float64            3480           0"
      ]
     },
     "metadata": {},
     "output_type": "display_data"
    },
    {
     "name": "stdout",
     "output_type": "stream",
     "text": [
      "\n",
      "🔹 Listings_v2 Data Types:\n"
     ]
    },
    {
     "data": {
      "application/vnd.microsoft.datawrangler.viewer.v0+json": {
       "columns": [
        {
         "name": "index",
         "rawType": "object",
         "type": "string"
        },
        {
         "name": "Data Type",
         "rawType": "object",
         "type": "unknown"
        },
        {
         "name": "Non-Null Count",
         "rawType": "int64",
         "type": "integer"
        },
        {
         "name": "Null Count",
         "rawType": "int64",
         "type": "integer"
        }
       ],
       "ref": "1be72a22-6b05-4be5-962c-4e1a387ae2e8",
       "rows": [
        [
         "listing_id",
         "int64",
         "300",
         "0"
        ],
        [
         "listing_name",
         "object",
         "300",
         "0"
        ],
        [
         "listing_type",
         "object",
         "300",
         "0"
        ],
        [
         "room_type",
         "object",
         "300",
         "0"
        ],
        [
         "cover_photo_url",
         "object",
         "300",
         "0"
        ],
        [
         "photos_count",
         "int64",
         "300",
         "0"
        ],
        [
         "host_id",
         "int64",
         "300",
         "0"
        ],
        [
         "host_name",
         "object",
         "296",
         "4"
        ],
        [
         "cohost_ids",
         "object",
         "75",
         "225"
        ],
        [
         "cohost_names",
         "object",
         "75",
         "225"
        ],
        [
         "superhost",
         "bool",
         "300",
         "0"
        ],
        [
         "latitude",
         "float64",
         "300",
         "0"
        ],
        [
         "longitude",
         "float64",
         "300",
         "0"
        ],
        [
         "guests",
         "float64",
         "258",
         "42"
        ],
        [
         "bedrooms",
         "float64",
         "249",
         "51"
        ],
        [
         "beds",
         "float64",
         "297",
         "3"
        ],
        [
         "baths",
         "float64",
         "300",
         "0"
        ],
        [
         "registration",
         "object",
         "297",
         "3"
        ],
        [
         "amenities",
         "object",
         "300",
         "0"
        ],
        [
         "instant_book",
         "object",
         "277",
         "23"
        ],
        [
         "min_nights",
         "float64",
         "298",
         "2"
        ],
        [
         "cancellation_policy",
         "object",
         "299",
         "1"
        ],
        [
         "currency",
         "object",
         "300",
         "0"
        ],
        [
         "cleaning_fee",
         "float64",
         "298",
         "2"
        ],
        [
         "extra_guest_fee",
         "float64",
         "279",
         "21"
        ],
        [
         "num_reviews",
         "int64",
         "300",
         "0"
        ],
        [
         "rating_overall",
         "float64",
         "290",
         "10"
        ],
        [
         "rating_accuracy",
         "float64",
         "290",
         "10"
        ],
        [
         "rating_checkin",
         "float64",
         "290",
         "10"
        ],
        [
         "rating_cleanliness",
         "float64",
         "290",
         "10"
        ],
        [
         "rating_communication",
         "float64",
         "290",
         "10"
        ],
        [
         "rating_location",
         "float64",
         "290",
         "10"
        ],
        [
         "rating_value",
         "float64",
         "290",
         "10"
        ],
        [
         "ttm_revenue",
         "float64",
         "300",
         "0"
        ],
        [
         "ttm_revenue_native",
         "float64",
         "300",
         "0"
        ],
        [
         "ttm_avg_rate",
         "float64",
         "300",
         "0"
        ],
        [
         "ttm_avg_rate_native",
         "float64",
         "300",
         "0"
        ],
        [
         "ttm_occupancy",
         "float64",
         "300",
         "0"
        ],
        [
         "ttm_adjusted_occupancy",
         "float64",
         "300",
         "0"
        ],
        [
         "ttm_revpar",
         "float64",
         "300",
         "0"
        ],
        [
         "ttm_revpar_native",
         "float64",
         "300",
         "0"
        ],
        [
         "ttm_adjusted_revpar",
         "float64",
         "300",
         "0"
        ],
        [
         "ttm_adjusted_revpar_native",
         "float64",
         "300",
         "0"
        ],
        [
         "ttm_reserved_days",
         "int64",
         "300",
         "0"
        ],
        [
         "ttm_blocked_days",
         "int64",
         "300",
         "0"
        ],
        [
         "ttm_available_days",
         "int64",
         "300",
         "0"
        ],
        [
         "ttm_total_days",
         "int64",
         "300",
         "0"
        ],
        [
         "l90d_revenue",
         "float64",
         "300",
         "0"
        ],
        [
         "l90d_revenue_native",
         "float64",
         "300",
         "0"
        ],
        [
         "l90d_avg_rate",
         "float64",
         "300",
         "0"
        ]
       ],
       "shape": {
        "columns": 3,
        "rows": 61
       }
      },
      "text/html": [
       "<div>\n",
       "<style scoped>\n",
       "    .dataframe tbody tr th:only-of-type {\n",
       "        vertical-align: middle;\n",
       "    }\n",
       "\n",
       "    .dataframe tbody tr th {\n",
       "        vertical-align: top;\n",
       "    }\n",
       "\n",
       "    .dataframe thead th {\n",
       "        text-align: right;\n",
       "    }\n",
       "</style>\n",
       "<table border=\"1\" class=\"dataframe\">\n",
       "  <thead>\n",
       "    <tr style=\"text-align: right;\">\n",
       "      <th></th>\n",
       "      <th>Data Type</th>\n",
       "      <th>Non-Null Count</th>\n",
       "      <th>Null Count</th>\n",
       "    </tr>\n",
       "  </thead>\n",
       "  <tbody>\n",
       "    <tr>\n",
       "      <th>listing_id</th>\n",
       "      <td>int64</td>\n",
       "      <td>300</td>\n",
       "      <td>0</td>\n",
       "    </tr>\n",
       "    <tr>\n",
       "      <th>listing_name</th>\n",
       "      <td>object</td>\n",
       "      <td>300</td>\n",
       "      <td>0</td>\n",
       "    </tr>\n",
       "    <tr>\n",
       "      <th>listing_type</th>\n",
       "      <td>object</td>\n",
       "      <td>300</td>\n",
       "      <td>0</td>\n",
       "    </tr>\n",
       "    <tr>\n",
       "      <th>room_type</th>\n",
       "      <td>object</td>\n",
       "      <td>300</td>\n",
       "      <td>0</td>\n",
       "    </tr>\n",
       "    <tr>\n",
       "      <th>cover_photo_url</th>\n",
       "      <td>object</td>\n",
       "      <td>300</td>\n",
       "      <td>0</td>\n",
       "    </tr>\n",
       "    <tr>\n",
       "      <th>...</th>\n",
       "      <td>...</td>\n",
       "      <td>...</td>\n",
       "      <td>...</td>\n",
       "    </tr>\n",
       "    <tr>\n",
       "      <th>l90d_adjusted_revpar_native</th>\n",
       "      <td>float64</td>\n",
       "      <td>300</td>\n",
       "      <td>0</td>\n",
       "    </tr>\n",
       "    <tr>\n",
       "      <th>l90d_reserved_days</th>\n",
       "      <td>int64</td>\n",
       "      <td>300</td>\n",
       "      <td>0</td>\n",
       "    </tr>\n",
       "    <tr>\n",
       "      <th>l90d_blocked_days</th>\n",
       "      <td>int64</td>\n",
       "      <td>300</td>\n",
       "      <td>0</td>\n",
       "    </tr>\n",
       "    <tr>\n",
       "      <th>l90d_available_days</th>\n",
       "      <td>int64</td>\n",
       "      <td>300</td>\n",
       "      <td>0</td>\n",
       "    </tr>\n",
       "    <tr>\n",
       "      <th>l90d_total_days</th>\n",
       "      <td>int64</td>\n",
       "      <td>300</td>\n",
       "      <td>0</td>\n",
       "    </tr>\n",
       "  </tbody>\n",
       "</table>\n",
       "<p>61 rows × 3 columns</p>\n",
       "</div>"
      ],
      "text/plain": [
       "                            Data Type  Non-Null Count  Null Count\n",
       "listing_id                      int64             300           0\n",
       "listing_name                   object             300           0\n",
       "listing_type                   object             300           0\n",
       "room_type                      object             300           0\n",
       "cover_photo_url                object             300           0\n",
       "...                               ...             ...         ...\n",
       "l90d_adjusted_revpar_native   float64             300           0\n",
       "l90d_reserved_days              int64             300           0\n",
       "l90d_blocked_days               int64             300           0\n",
       "l90d_available_days             int64             300           0\n",
       "l90d_total_days                 int64             300           0\n",
       "\n",
       "[61 rows x 3 columns]"
      ]
     },
     "metadata": {},
     "output_type": "display_data"
    },
    {
     "name": "stdout",
     "output_type": "stream",
     "text": [
      "\n",
      "🔹 Past Calendar Data Types:\n"
     ]
    },
    {
     "data": {
      "application/vnd.microsoft.datawrangler.viewer.v0+json": {
       "columns": [
        {
         "name": "index",
         "rawType": "object",
         "type": "string"
        },
        {
         "name": "Data Type",
         "rawType": "object",
         "type": "unknown"
        },
        {
         "name": "Non-Null Count",
         "rawType": "int64",
         "type": "integer"
        },
        {
         "name": "Null Count",
         "rawType": "int64",
         "type": "integer"
        }
       ],
       "ref": "faf1c237-b47d-4f1e-9277-da6598f3e1c1",
       "rows": [
        [
         "listing_id",
         "int64",
         "3542",
         "0"
        ],
        [
         "date",
         "object",
         "3542",
         "0"
        ],
        [
         "vacant_days",
         "int64",
         "3542",
         "0"
        ],
        [
         "reserved_days",
         "int64",
         "3542",
         "0"
        ],
        [
         "occupancy",
         "float64",
         "3542",
         "0"
        ],
        [
         "revenue",
         "float64",
         "3542",
         "0"
        ],
        [
         "rate_avg",
         "float64",
         "3542",
         "0"
        ],
        [
         "booked_rate_avg",
         "float64",
         "1875",
         "1667"
        ],
        [
         "booking_lead_time_avg",
         "float64",
         "1668",
         "1874"
        ],
        [
         "length_of_stay_avg",
         "float64",
         "1668",
         "1874"
        ],
        [
         "min_nights_avg",
         "float64",
         "2380",
         "1162"
        ],
        [
         "native_booked_rate_avg",
         "float64",
         "1875",
         "1667"
        ],
        [
         "native_rate_avg",
         "float64",
         "3542",
         "0"
        ],
        [
         "native_revenue",
         "float64",
         "3542",
         "0"
        ]
       ],
       "shape": {
        "columns": 3,
        "rows": 14
       }
      },
      "text/html": [
       "<div>\n",
       "<style scoped>\n",
       "    .dataframe tbody tr th:only-of-type {\n",
       "        vertical-align: middle;\n",
       "    }\n",
       "\n",
       "    .dataframe tbody tr th {\n",
       "        vertical-align: top;\n",
       "    }\n",
       "\n",
       "    .dataframe thead th {\n",
       "        text-align: right;\n",
       "    }\n",
       "</style>\n",
       "<table border=\"1\" class=\"dataframe\">\n",
       "  <thead>\n",
       "    <tr style=\"text-align: right;\">\n",
       "      <th></th>\n",
       "      <th>Data Type</th>\n",
       "      <th>Non-Null Count</th>\n",
       "      <th>Null Count</th>\n",
       "    </tr>\n",
       "  </thead>\n",
       "  <tbody>\n",
       "    <tr>\n",
       "      <th>listing_id</th>\n",
       "      <td>int64</td>\n",
       "      <td>3542</td>\n",
       "      <td>0</td>\n",
       "    </tr>\n",
       "    <tr>\n",
       "      <th>date</th>\n",
       "      <td>object</td>\n",
       "      <td>3542</td>\n",
       "      <td>0</td>\n",
       "    </tr>\n",
       "    <tr>\n",
       "      <th>vacant_days</th>\n",
       "      <td>int64</td>\n",
       "      <td>3542</td>\n",
       "      <td>0</td>\n",
       "    </tr>\n",
       "    <tr>\n",
       "      <th>reserved_days</th>\n",
       "      <td>int64</td>\n",
       "      <td>3542</td>\n",
       "      <td>0</td>\n",
       "    </tr>\n",
       "    <tr>\n",
       "      <th>occupancy</th>\n",
       "      <td>float64</td>\n",
       "      <td>3542</td>\n",
       "      <td>0</td>\n",
       "    </tr>\n",
       "    <tr>\n",
       "      <th>revenue</th>\n",
       "      <td>float64</td>\n",
       "      <td>3542</td>\n",
       "      <td>0</td>\n",
       "    </tr>\n",
       "    <tr>\n",
       "      <th>rate_avg</th>\n",
       "      <td>float64</td>\n",
       "      <td>3542</td>\n",
       "      <td>0</td>\n",
       "    </tr>\n",
       "    <tr>\n",
       "      <th>booked_rate_avg</th>\n",
       "      <td>float64</td>\n",
       "      <td>1875</td>\n",
       "      <td>1667</td>\n",
       "    </tr>\n",
       "    <tr>\n",
       "      <th>booking_lead_time_avg</th>\n",
       "      <td>float64</td>\n",
       "      <td>1668</td>\n",
       "      <td>1874</td>\n",
       "    </tr>\n",
       "    <tr>\n",
       "      <th>length_of_stay_avg</th>\n",
       "      <td>float64</td>\n",
       "      <td>1668</td>\n",
       "      <td>1874</td>\n",
       "    </tr>\n",
       "    <tr>\n",
       "      <th>min_nights_avg</th>\n",
       "      <td>float64</td>\n",
       "      <td>2380</td>\n",
       "      <td>1162</td>\n",
       "    </tr>\n",
       "    <tr>\n",
       "      <th>native_booked_rate_avg</th>\n",
       "      <td>float64</td>\n",
       "      <td>1875</td>\n",
       "      <td>1667</td>\n",
       "    </tr>\n",
       "    <tr>\n",
       "      <th>native_rate_avg</th>\n",
       "      <td>float64</td>\n",
       "      <td>3542</td>\n",
       "      <td>0</td>\n",
       "    </tr>\n",
       "    <tr>\n",
       "      <th>native_revenue</th>\n",
       "      <td>float64</td>\n",
       "      <td>3542</td>\n",
       "      <td>0</td>\n",
       "    </tr>\n",
       "  </tbody>\n",
       "</table>\n",
       "</div>"
      ],
      "text/plain": [
       "                       Data Type  Non-Null Count  Null Count\n",
       "listing_id                 int64            3542           0\n",
       "date                      object            3542           0\n",
       "vacant_days                int64            3542           0\n",
       "reserved_days              int64            3542           0\n",
       "occupancy                float64            3542           0\n",
       "revenue                  float64            3542           0\n",
       "rate_avg                 float64            3542           0\n",
       "booked_rate_avg          float64            1875        1667\n",
       "booking_lead_time_avg    float64            1668        1874\n",
       "length_of_stay_avg       float64            1668        1874\n",
       "min_nights_avg           float64            2380        1162\n",
       "native_booked_rate_avg   float64            1875        1667\n",
       "native_rate_avg          float64            3542           0\n",
       "native_revenue           float64            3542           0"
      ]
     },
     "metadata": {},
     "output_type": "display_data"
    },
    {
     "name": "stdout",
     "output_type": "stream",
     "text": [
      "\n",
      "🔹 Reviews_v2 Data Types:\n"
     ]
    },
    {
     "data": {
      "application/vnd.microsoft.datawrangler.viewer.v0+json": {
       "columns": [
        {
         "name": "index",
         "rawType": "object",
         "type": "string"
        },
        {
         "name": "Data Type",
         "rawType": "object",
         "type": "unknown"
        },
        {
         "name": "Non-Null Count",
         "rawType": "int64",
         "type": "integer"
        },
        {
         "name": "Null Count",
         "rawType": "int64",
         "type": "integer"
        }
       ],
       "ref": "a56595fd-cab1-496a-9192-49e9afb09c5d",
       "rows": [
        [
         "listing_id",
         "int64",
         "997",
         "0"
        ],
        [
         "date",
         "object",
         "997",
         "0"
        ],
        [
         "num_reviews",
         "int64",
         "997",
         "0"
        ],
        [
         "reviewers",
         "object",
         "997",
         "0"
        ]
       ],
       "shape": {
        "columns": 3,
        "rows": 4
       }
      },
      "text/html": [
       "<div>\n",
       "<style scoped>\n",
       "    .dataframe tbody tr th:only-of-type {\n",
       "        vertical-align: middle;\n",
       "    }\n",
       "\n",
       "    .dataframe tbody tr th {\n",
       "        vertical-align: top;\n",
       "    }\n",
       "\n",
       "    .dataframe thead th {\n",
       "        text-align: right;\n",
       "    }\n",
       "</style>\n",
       "<table border=\"1\" class=\"dataframe\">\n",
       "  <thead>\n",
       "    <tr style=\"text-align: right;\">\n",
       "      <th></th>\n",
       "      <th>Data Type</th>\n",
       "      <th>Non-Null Count</th>\n",
       "      <th>Null Count</th>\n",
       "    </tr>\n",
       "  </thead>\n",
       "  <tbody>\n",
       "    <tr>\n",
       "      <th>listing_id</th>\n",
       "      <td>int64</td>\n",
       "      <td>997</td>\n",
       "      <td>0</td>\n",
       "    </tr>\n",
       "    <tr>\n",
       "      <th>date</th>\n",
       "      <td>object</td>\n",
       "      <td>997</td>\n",
       "      <td>0</td>\n",
       "    </tr>\n",
       "    <tr>\n",
       "      <th>num_reviews</th>\n",
       "      <td>int64</td>\n",
       "      <td>997</td>\n",
       "      <td>0</td>\n",
       "    </tr>\n",
       "    <tr>\n",
       "      <th>reviewers</th>\n",
       "      <td>object</td>\n",
       "      <td>997</td>\n",
       "      <td>0</td>\n",
       "    </tr>\n",
       "  </tbody>\n",
       "</table>\n",
       "</div>"
      ],
      "text/plain": [
       "            Data Type  Non-Null Count  Null Count\n",
       "listing_id      int64             997           0\n",
       "date           object             997           0\n",
       "num_reviews     int64             997           0\n",
       "reviewers      object             997           0"
      ]
     },
     "metadata": {},
     "output_type": "display_data"
    }
   ],
   "source": [
    "# Function to check data types\n",
    "def datatypes_summary(df):\n",
    "    dtypes_summary = pd.DataFrame({\n",
    "        'Data Type': df.dtypes,\n",
    "        'Non-Null Count': df.notnull().sum(),\n",
    "        'Null Count': df.isnull().sum()\n",
    "    })\n",
    "    return dtypes_summary\n",
    "\n",
    "# ================================\n",
    "# Check data types per dataset\n",
    "# ================================\n",
    "\n",
    "print(\"🔹 Future Calendar Data Types:\")\n",
    "display(datatypes_summary(future_calendar))\n",
    "\n",
    "print(\"\\n🔹 Listings_v2 Data Types:\")\n",
    "display(datatypes_summary(listings_v2))\n",
    "\n",
    "print(\"\\n🔹 Past Calendar Data Types:\")\n",
    "display(datatypes_summary(past_calendar))\n",
    "\n",
    "print(\"\\n🔹 Reviews_v2 Data Types:\")\n",
    "display(datatypes_summary(reviews_v2))\n",
    "\n"
   ]
  },
  {
   "cell_type": "markdown",
   "id": "8451e9d6",
   "metadata": {},
   "source": [
    "# 4. Data Cleaning "
   ]
  },
  {
   "cell_type": "code",
   "execution_count": 44,
   "id": "4d747a90",
   "metadata": {},
   "outputs": [
    {
     "name": "stdout",
     "output_type": "stream",
     "text": [
      "\n",
      "🔹 Cleaning Future Calendar...\n",
      "Removed duplicates → New shape: (3480, 14)\n",
      "Finished cleaning Future Calendar.\n",
      "\n",
      "🔹 Cleaning Listings V2...\n",
      "Removed duplicates → New shape: (300, 61)\n",
      "Finished cleaning Listings V2.\n",
      "\n",
      "🔹 Cleaning Past Calendar...\n",
      "Removed duplicates → New shape: (3542, 14)\n",
      "Finished cleaning Past Calendar.\n",
      "\n",
      "🔹 Cleaning Reviews V2...\n",
      "Removed duplicates → New shape: (997, 4)\n",
      "Finished cleaning Reviews V2.\n"
     ]
    }
   ],
   "source": [
    "import pandas as pd\n",
    "\n",
    "# ==============\n",
    "# Data Cleaning\n",
    "# ==============\n",
    "\n",
    "def clean_dataframe(df, dataset_name):\n",
    "    print(f\"\\n🔹 Cleaning {dataset_name}...\")\n",
    "\n",
    "    # 1. Remove duplicates\n",
    "    df = df.drop_duplicates()\n",
    "    print(f\"Removed duplicates → New shape: {df.shape}\")\n",
    "\n",
    "    # 2. Handle missing values\n",
    "    for col in df.columns:\n",
    "        if df[col].dtype == 'object':  \n",
    "            # Fill categorical/text missing values with \"Unknown\"\n",
    "            df[col] = df[col].fillna(\"Unknown\").str.strip().str.lower()\n",
    "        elif pd.api.types.is_numeric_dtype(df[col]):\n",
    "            # Fill numeric missing values with median\n",
    "            df[col] = df[col].fillna(df[col].median())\n",
    "        elif pd.api.types.is_datetime64_any_dtype(df[col]):\n",
    "            # Fill missing dates with earliest date\n",
    "            df[col] = df[col].fillna(df[col].min())\n",
    "\n",
    "    # 3. Convert data types\n",
    "    for col in df.columns:\n",
    "        # Convert dates\n",
    "        if \"date\" in col.lower():\n",
    "            df[col] = pd.to_datetime(df[col], errors='coerce')\n",
    "\n",
    "        # Convert numeric-looking strings\n",
    "        if df[col].dtype == 'object':\n",
    "            df[col] = pd.to_numeric(df[col], errors='ignore')\n",
    "\n",
    "    print(f\"Finished cleaning {dataset_name}.\")\n",
    "    return df\n",
    "\n",
    "\n",
    "# Apply cleaning function to each dataset\n",
    "future_calendar = clean_dataframe(future_calendar, \"Future Calendar\")\n",
    "listings_v2 = clean_dataframe(listings_v2, \"Listings V2\")\n",
    "past_calendar = clean_dataframe(past_calendar, \"Past Calendar\")\n",
    "reviews_v2 = clean_dataframe(reviews_v2, \"Reviews V2\")\n"
   ]
  },
  {
   "cell_type": "markdown",
   "id": "c83ece39",
   "metadata": {},
   "source": [
    "### 4.1 Merge the Data "
   ]
  },
  {
   "cell_type": "code",
   "execution_count": 45,
   "id": "884e598b",
   "metadata": {},
   "outputs": [
    {
     "name": "stdout",
     "output_type": "stream",
     "text": [
      "Master dataset shape: (25117, 77)\n",
      "Master dataset columns: ['listing_id', 'listing_name', 'listing_type', 'room_type', 'cover_photo_url', 'photos_count', 'host_id', 'host_name', 'cohost_ids', 'cohost_names', 'superhost', 'latitude', 'longitude', 'guests', 'bedrooms', 'beds', 'baths', 'registration', 'amenities', 'instant_book', 'min_nights', 'cancellation_policy', 'currency', 'cleaning_fee', 'extra_guest_fee', 'num_reviews_x', 'rating_overall', 'rating_accuracy', 'rating_checkin', 'rating_cleanliness', 'rating_communication', 'rating_location', 'rating_value', 'ttm_revenue', 'ttm_revenue_native', 'ttm_avg_rate', 'ttm_avg_rate_native', 'ttm_occupancy', 'ttm_adjusted_occupancy', 'ttm_revpar', 'ttm_revpar_native', 'ttm_adjusted_revpar', 'ttm_adjusted_revpar_native', 'ttm_reserved_days', 'ttm_blocked_days', 'ttm_available_days', 'ttm_total_days', 'l90d_revenue', 'l90d_revenue_native', 'l90d_avg_rate', 'l90d_avg_rate_native', 'l90d_occupancy', 'l90d_adjusted_occupancy', 'l90d_revpar', 'l90d_revpar_native', 'l90d_adjusted_revpar', 'l90d_adjusted_revpar_native', 'l90d_reserved_days', 'l90d_blocked_days', 'l90d_available_days', 'l90d_total_days', 'date_x', 'num_reviews_y', 'reviewers', 'date_y', 'vacant_days', 'reserved_days', 'occupancy', 'revenue', 'rate_avg', 'booked_rate_avg', 'booking_lead_time_avg', 'length_of_stay_avg', 'min_nights_avg', 'native_booked_rate_avg', 'native_rate_avg', 'native_revenue']\n"
     ]
    }
   ],
   "source": [
    "# 1. Merge reviews into listings\n",
    "listings_reviews = listings_v2.merge(reviews_v2, on=\"listing_id\", how=\"left\")\n",
    "\n",
    "# 2. Combine past and future calendar\n",
    "calendar_all = pd.concat([past_calendar, future_calendar], axis=0)\n",
    "\n",
    "# 3. Merge calendar with listings + reviews\n",
    "master_df = listings_reviews.merge(calendar_all, on=\"listing_id\", how=\"left\")\n",
    "\n",
    "# 4. Check result\n",
    "print(\"Master dataset shape:\", master_df.shape)\n",
    "print(\"Master dataset columns:\", master_df.columns.tolist())\n"
   ]
  },
  {
   "cell_type": "markdown",
   "id": "8fbb254d",
   "metadata": {},
   "source": [
    "# 5. Exploratory Data Analysis"
   ]
  },
  {
   "cell_type": "markdown",
   "id": "bdcf896c",
   "metadata": {},
   "source": [
    "### 5.1 Univariate Analysis"
   ]
  },
  {
   "cell_type": "code",
   "execution_count": 65,
   "id": "a0f5780a",
   "metadata": {},
   "outputs": [
    {
     "data": {
      "image/png": "[encoded data removed]",
      "text/plain": [
       "<Figure size 700x500 with 1 Axes>"
      ]
     },
     "metadata": {},
     "output_type": "display_data"
    },
    {
     "data": {
      "image/png": "[encoded data removed]",
      "text/plain": [
       "<Figure size 700x500 with 1 Axes>"
      ]
     },
     "metadata": {},
     "output_type": "display_data"
    },
    {
     "data": {
      "image/png": "[encoded data removed]",
      "text/plain": [
       "<Figure size 700x500 with 1 Axes>"
      ]
     },
     "metadata": {},
     "output_type": "display_data"
    },
    {
     "data": {
      "image/png": "[encoded data removed]",
      "text/plain": [
       "<Figure size 700x500 with 1 Axes>"
      ]
     },
     "metadata": {},
     "output_type": "display_data"
    },
    {
     "data": {
      "image/png": "[encoded data removed]",
      "text/plain": [
       "<Figure size 700x500 with 1 Axes>"
      ]
     },
     "metadata": {},
     "output_type": "display_data"
    },
    {
     "data": {
      "image/png": "[encoded data removed]",
      "text/plain": [
       "<Figure size 700x500 with 1 Axes>"
      ]
     },
     "metadata": {},
     "output_type": "display_data"
    }
   ],
   "source": [
    "import matplotlib.pyplot as plt\n",
    "import seaborn as sns\n",
    "\n",
    "# Set a clean style\n",
    "sns.set_theme(style=\"whitegrid\")\n",
    "\n",
    "# -------------------------------\n",
    "# Numerical distributions\n",
    "# -------------------------------\n",
    "num_cols = [\"revenue\", \"occupancy\", \"rating_overall\"]\n",
    "\n",
    "for col in num_cols:\n",
    "    plt.figure(figsize=(7,5))\n",
    "    sns.histplot(master_df[col], kde=True, bins=40, color=\"skyblue\", edgecolor=\"black\")\n",
    "    plt.title(f\"Distribution of {col}\", fontsize=14, fontweight=\"bold\", pad=15)\n",
    "    plt.xlabel(col.capitalize(), fontsize=12)\n",
    "    plt.ylabel(\"Count\", fontsize=12)\n",
    "    plt.grid(alpha=0.3, linestyle=\"--\")\n",
    "    plt.tight_layout()\n",
    "    plt.show()\n",
    "\n",
    "\n",
    "# -------------------------------\n",
    "# Categorical frequency counts\n",
    "# -------------------------------\n",
    "cat_cols = [\"room_type\", \"cancellation_policy\", \"superhost\"]\n",
    "\n",
    "for col in cat_cols:\n",
    "    plt.figure(figsize=(7,5))\n",
    "    ax = sns.countplot(\n",
    "        data=master_df,\n",
    "        x=col,\n",
    "        order=master_df[col].value_counts().index,\n",
    "        palette=\"Set2\"\n",
    "    )\n",
    "\n",
    "    # Add percentages on top of bars\n",
    "    total = len(master_df[col])\n",
    "    for p in ax.patches:\n",
    "        percentage = f\"{100 * p.get_height() / total:.1f}%\"\n",
    "        ax.annotate(percentage, \n",
    "                    (p.get_x() + p.get_width() / 2., p.get_height()), \n",
    "                    ha='center', va='bottom', fontsize=10, fontweight=\"bold\")\n",
    "\n",
    "    plt.title(f\"Frequency of {col}\", fontsize=14, fontweight=\"bold\", pad=15)\n",
    "    plt.xlabel(col.replace(\"_\", \" \").capitalize(), fontsize=12)\n",
    "    plt.ylabel(\"Count\", fontsize=12)\n",
    "    plt.xticks(rotation=30, ha=\"right\")\n",
    "    plt.tight_layout()\n",
    "    plt.show()\n"
   ]
  },
  {
   "cell_type": "markdown",
   "id": "463e8340",
   "metadata": {},
   "source": [
    "### 5.2 Bivariate Analysis"
   ]
  },
  {
   "cell_type": "code",
   "execution_count": 62,
   "id": "fc829080",
   "metadata": {},
   "outputs": [
    {
     "data": {
      "image/png": "[encoded data removed]",
      "text/plain": [
       "<Figure size 800x600 with 1 Axes>"
      ]
     },
     "metadata": {},
     "output_type": "display_data"
    },
    {
     "data": {
      "image/png": "[encoded data removed]",
      "text/plain": [
       "<Figure size 800x600 with 1 Axes>"
      ]
     },
     "metadata": {},
     "output_type": "display_data"
    },
    {
     "data": {
      "image/png": "[encoded data removed]",
      "text/plain": [
       "<Figure size 800x600 with 1 Axes>"
      ]
     },
     "metadata": {},
     "output_type": "display_data"
    }
   ],
   "source": [
    "# Improved individual plots with KSH currency\n",
    "def create_enhanced_plots_ksh(df):\n",
    "    # Set style\n",
    "    sns.set_style(\"whitegrid\")\n",
    "    plt.rcParams['figure.dpi'] = 100\n",
    "    \n",
    "    # Plot 1: Revenue vs Occupancy\n",
    "    plt.figure(figsize=(8, 6))\n",
    "    sns.regplot(data=df, x=\"occupancy\", y=\"revenue\", scatter_kws={'alpha':0.6})\n",
    "    plt.title(\"Revenue vs Occupancy (KSH)\\nwith Trend Line\", fontsize=14, fontweight='bold')\n",
    "    plt.xlabel(\"Occupancy Rate (%)\")\n",
    "    plt.ylabel(\"Revenue (KSH)\")\n",
    "    plt.tight_layout()\n",
    "    plt.show()\n",
    "    \n",
    "    # Plot 2: Ratings vs Superhost\n",
    "    plt.figure(figsize=(8, 6))\n",
    "    sns.boxplot(data=df, x=\"superhost\", y=\"rating_overall\", palette=\"pastel\")\n",
    "    plt.title(\"Ratings Distribution by Superhost Status\", fontsize=14, fontweight='bold')\n",
    "    plt.xlabel(\"Superhost Status\")\n",
    "    plt.ylabel(\"Overall Rating\")\n",
    "    plt.tight_layout()\n",
    "    plt.show()\n",
    "    \n",
    "    # Plot 3: Room type vs Average Revenue\n",
    "    plt.figure(figsize=(8, 6))\n",
    "    room_order = df.groupby('room_type')['revenue'].mean().sort_values().index\n",
    "    ax = sns.barplot(data=df, x=\"room_type\", y=\"revenue\", estimator='mean', \n",
    "                    order=room_order, palette=\"coolwarm\")\n",
    "    plt.title(\"Average Revenue by Room Type (KSH)\", fontsize=14, fontweight='bold')\n",
    "    plt.xlabel(\"Room Type\")\n",
    "    plt.ylabel(\"Average Revenue (KSH)\")\n",
    "    plt.xticks(rotation=45)\n",
    "    \n",
    "    # Add value labels with KSH format\n",
    "    for p in ax.patches:\n",
    "        ax.annotate(f'KSH {p.get_height():,.0f}', \n",
    "                   (p.get_x() + p.get_width() / 2., p.get_height()), \n",
    "                   ha='center', va='bottom', fontsize=10)\n",
    "    plt.tight_layout()\n",
    "    plt.show()\n",
    "\n",
    "create_enhanced_plots_ksh(master_df)"
   ]
  },
  {
   "cell_type": "markdown",
   "id": "d791a51a",
   "metadata": {},
   "source": [
    "### 5.3 Time-based Analysis"
   ]
  },
  {
   "cell_type": "code",
   "execution_count": 52,
   "id": "686c9f9e",
   "metadata": {},
   "outputs": [
    {
     "data": {
      "image/png": "[encoded data removed]",
      "text/plain": [
       "<Figure size 1000x500 with 1 Axes>"
      ]
     },
     "metadata": {},
     "output_type": "display_data"
    },
    {
     "data": {
      "image/png": "[encoded data removed]",
      "text/plain": [
       "<Figure size 1000x500 with 1 Axes>"
      ]
     },
     "metadata": {},
     "output_type": "display_data"
    }
   ],
   "source": [
    "# Convert date if not already\n",
    "master_df[\"date_x\"] = pd.to_datetime(master_df[\"date_x\"], errors='coerce')\n",
    "\n",
    "# Revenue over time\n",
    "plt.figure(figsize=(10,5))\n",
    "master_df.groupby(\"date_x\")[\"revenue\"].mean().plot()\n",
    "plt.title(\"Average Revenue Over Time\")\n",
    "plt.ylabel(\"Revenue\")\n",
    "plt.show()\n",
    "\n",
    "# Occupancy over time\n",
    "plt.figure(figsize=(10,5))\n",
    "master_df.groupby(\"date_x\")[\"occupancy\"].mean().plot(color=\"orange\")\n",
    "plt.title(\"Average Occupancy Over Time\")\n",
    "plt.ylabel(\"Occupancy\")\n",
    "plt.show()\n"
   ]
  },
  {
   "cell_type": "markdown",
   "id": "b45d6334",
   "metadata": {},
   "source": [
    "### 5.4 Correlation Analysis"
   ]
  },
  {
   "cell_type": "code",
   "execution_count": 67,
   "id": "262c3043",
   "metadata": {},
   "outputs": [
    {
     "data": {
      "image/png": "[encoded data removed]",
      "text/plain": [
       "<Figure size 800x600 with 2 Axes>"
      ]
     },
     "metadata": {},
     "output_type": "display_data"
    }
   ],
   "source": [
    "plt.figure(figsize=(8, 6))\n",
    "\n",
    "# Create the correlation matrix\n",
    "corr_matrix = master_df[[\"revenue\", \"occupancy\", \"rating_overall\", \"rate_avg\"]].corr()\n",
    "\n",
    "# Create heatmap with improved styling\n",
    "heatmap = sns.heatmap(corr_matrix, \n",
    "            annot=True, \n",
    "            cmap=\"RdBu_r\",  # Better color scheme for correlations\n",
    "            fmt=\".2f\", \n",
    "            center=0,  # Center colormap at 0\n",
    "            square=True,  # Square cells\n",
    "            linewidths=0.5,  # Add grid lines\n",
    "            linecolor='white',  # White grid lines\n",
    "            cbar_kws={\"shrink\": 0.8, \"label\": \"Correlation Coefficient\"},\n",
    "            annot_kws={\"size\": 12, \"weight\": \"bold\"})  # Better annotation styling\n",
    "\n",
    "# Improve title and labels\n",
    "plt.title(\"Correlation Heatmap: Hotel Performance Metrics\", \n",
    "          fontsize=16, fontweight='bold', pad=20)\n",
    "plt.xticks(rotation=45, ha='right', fontsize=12)\n",
    "plt.yticks(rotation=0, fontsize=12)\n",
    "\n",
    "# Adjust layout to prevent label cutoff\n",
    "plt.tight_layout()\n",
    "\n",
    "# Add a descriptive caption if needed\n",
    "plt.figtext(0.5, 0.01, \"Figure shows Pearson correlation coefficients between key performance metrics\", \n",
    "           ha=\"center\", fontsize=10, style='italic')\n",
    "\n",
    "plt.show()"
   ]
  },
  {
   "cell_type": "markdown",
   "id": "d491b8b7",
   "metadata": {},
   "source": [
    "### 5.5 Geospatial Analysis"
   ]
  },
  {
   "cell_type": "code",
   "execution_count": 55,
   "id": "a639a498",
   "metadata": {},
   "outputs": [
    {
     "data": {
      "image/png": "[encoded data removed]",
      "text/plain": [
       "<Figure size 1000x800 with 1 Axes>"
      ]
     },
     "metadata": {},
     "output_type": "display_data"
    }
   ],
   "source": [
    "plt.figure(figsize=(10, 8))\n",
    "\n",
    "# Create the scatter plot with improved parameters\n",
    "scatter = sns.scatterplot(\n",
    "    data=master_df, \n",
    "    x=\"longitude\", \n",
    "    y=\"latitude\",\n",
    "    size=\"revenue\", \n",
    "    hue=\"occupancy\", \n",
    "    alpha=0.7, \n",
    "    palette=\"viridis\",\n",
    "    sizes=(20, 400),  # Control the size range explicitly\n",
    "    edgecolor='white',  # Add white edges for better distinction\n",
    "    linewidth=0.5\n",
    ")\n",
    "\n",
    "# Improve title and labels\n",
    "plt.title(\"Geographic Distribution of Listings: Revenue vs Occupancy\", \n",
    "          fontsize=16, fontweight='bold', pad=20)\n",
    "plt.xlabel(\"Longitude\", fontsize=12)\n",
    "plt.ylabel(\"Latitude\", fontsize=12)\n",
    "\n",
    "# Improve legend\n",
    "plt.legend(\n",
    "    title_fontsize=10,\n",
    "    fontsize=9,\n",
    "    frameon=True,\n",
    "    fancybox=True,\n",
    "    framealpha=0.8,\n",
    "    loc='best'  # Automatically choose best position\n",
    ")\n",
    "\n",
    "# Add grid for better readability\n",
    "plt.grid(True, alpha=0.3, linestyle='--')\n",
    "\n",
    "# Adjust layout to prevent legend cutoff\n",
    "plt.tight_layout()\n",
    "\n",
    "# Improve colorbar if needed (optional)\n",
    "# plt.colorbar(scatter, label='Occupancy Rate')\n",
    "\n",
    "plt.show()"
   ]
  }
 ],
 "metadata": {
  "kernelspec": {
   "display_name": "base",
   "language": "python",
   "name": "python3"
  },
  "language_info": {
   "codemirror_mode": {
    "name": "ipython",
    "version": 3
   },
   "file_extension": ".py",
   "mimetype": "text/x-python",
   "name": "python",
   "nbconvert_exporter": "python",
   "pygments_lexer": "ipython3",
   "version": "3.11.7"
  }
 },
 "nbformat": 4,
 "nbformat_minor": 5
}
